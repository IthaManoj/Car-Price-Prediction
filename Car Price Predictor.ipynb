{
 "cells": [
  {
   "cell_type": "markdown",
   "metadata": {},
   "source": [
    "**Description :** We will be using Linear Regression Model to advise a person who has come to visit our store for buying or selling the used cars. Our store is the top most company in the town offering marginal prices to the customers. During this covid situation, used car sales as there is a high demand of them due to their affordable prices. \n",
    "\n",
    "The value of a car drops right from the moment it is bought and the depreciation continues with each passing year. In fact, in the first year itself, the value of a car decreases by 20 percent of its initial value. The make and model of a car, total kilometers driven, overall condition of the vehicle and various other factors further affect the car’s resale value"
   ]
  },
  {
   "cell_type": "markdown",
   "metadata": {},
   "source": [
    "**Problem Statement :** We need to advise a person who wishes to buy a used car by conveying the specifications needed by the customers like brand, mileage, year of purchase and some other features so that we can convey him the approximate price of the car."
   ]
  },
  {
   "cell_type": "markdown",
   "metadata": {},
   "source": [
    "### Importing the required libraries and packages"
   ]
  },
  {
   "cell_type": "code",
   "execution_count": 1,
   "metadata": {},
   "outputs": [],
   "source": [
    "import pandas as pd\n",
    "import numpy as np\n",
    "import matplotlib.pyplot as plt\n",
    "import seaborn as sns\n",
    "\n",
    "import warnings\n",
    "warnings.filterwarnings('ignore')"
   ]
  },
  {
   "cell_type": "markdown",
   "metadata": {},
   "source": [
    "### Reading the dataset"
   ]
  },
  {
   "cell_type": "markdown",
   "metadata": {},
   "source": [
    "We shall work with the used_cars_prices.csv file which is given by the company to analyse the data and make the model. It has the car details like Brand,  Body type, whether registration has done or not and engine type with the model name. It has also some numerical variables such as price of the car, mileage, engine volume, year of the model."
   ]
  },
  {
   "cell_type": "code",
   "execution_count": 2,
   "metadata": {},
   "outputs": [
    {
     "data": {
      "text/html": [
       "<div>\n",
       "<style scoped>\n",
       "    .dataframe tbody tr th:only-of-type {\n",
       "        vertical-align: middle;\n",
       "    }\n",
       "\n",
       "    .dataframe tbody tr th {\n",
       "        vertical-align: top;\n",
       "    }\n",
       "\n",
       "    .dataframe thead th {\n",
       "        text-align: right;\n",
       "    }\n",
       "</style>\n",
       "<table border=\"1\" class=\"dataframe\">\n",
       "  <thead>\n",
       "    <tr style=\"text-align: right;\">\n",
       "      <th></th>\n",
       "      <th>Brand</th>\n",
       "      <th>Price</th>\n",
       "      <th>Body</th>\n",
       "      <th>Mileage</th>\n",
       "      <th>EngineV</th>\n",
       "      <th>Engine Type</th>\n",
       "      <th>Registration</th>\n",
       "      <th>Year</th>\n",
       "      <th>Model</th>\n",
       "    </tr>\n",
       "  </thead>\n",
       "  <tbody>\n",
       "    <tr>\n",
       "      <th>0</th>\n",
       "      <td>BMW</td>\n",
       "      <td>4200.0</td>\n",
       "      <td>sedan</td>\n",
       "      <td>277</td>\n",
       "      <td>2.0</td>\n",
       "      <td>Petrol</td>\n",
       "      <td>yes</td>\n",
       "      <td>1991</td>\n",
       "      <td>320</td>\n",
       "    </tr>\n",
       "    <tr>\n",
       "      <th>1</th>\n",
       "      <td>Mercedes-Benz</td>\n",
       "      <td>7900.0</td>\n",
       "      <td>van</td>\n",
       "      <td>427</td>\n",
       "      <td>2.9</td>\n",
       "      <td>Diesel</td>\n",
       "      <td>yes</td>\n",
       "      <td>1999</td>\n",
       "      <td>Sprinter 212</td>\n",
       "    </tr>\n",
       "    <tr>\n",
       "      <th>2</th>\n",
       "      <td>Mercedes-Benz</td>\n",
       "      <td>13300.0</td>\n",
       "      <td>sedan</td>\n",
       "      <td>358</td>\n",
       "      <td>5.0</td>\n",
       "      <td>Gas</td>\n",
       "      <td>yes</td>\n",
       "      <td>2003</td>\n",
       "      <td>S 500</td>\n",
       "    </tr>\n",
       "    <tr>\n",
       "      <th>3</th>\n",
       "      <td>Audi</td>\n",
       "      <td>23000.0</td>\n",
       "      <td>crossover</td>\n",
       "      <td>240</td>\n",
       "      <td>4.2</td>\n",
       "      <td>Petrol</td>\n",
       "      <td>yes</td>\n",
       "      <td>2007</td>\n",
       "      <td>Q7</td>\n",
       "    </tr>\n",
       "    <tr>\n",
       "      <th>4</th>\n",
       "      <td>Toyota</td>\n",
       "      <td>18300.0</td>\n",
       "      <td>crossover</td>\n",
       "      <td>120</td>\n",
       "      <td>2.0</td>\n",
       "      <td>Petrol</td>\n",
       "      <td>yes</td>\n",
       "      <td>2011</td>\n",
       "      <td>Rav 4</td>\n",
       "    </tr>\n",
       "  </tbody>\n",
       "</table>\n",
       "</div>"
      ],
      "text/plain": [
       "           Brand    Price       Body  Mileage  EngineV Engine Type  \\\n",
       "0            BMW   4200.0      sedan      277      2.0      Petrol   \n",
       "1  Mercedes-Benz   7900.0        van      427      2.9      Diesel   \n",
       "2  Mercedes-Benz  13300.0      sedan      358      5.0         Gas   \n",
       "3           Audi  23000.0  crossover      240      4.2      Petrol   \n",
       "4         Toyota  18300.0  crossover      120      2.0      Petrol   \n",
       "\n",
       "  Registration  Year         Model  \n",
       "0          yes  1991           320  \n",
       "1          yes  1999  Sprinter 212  \n",
       "2          yes  2003         S 500  \n",
       "3          yes  2007            Q7  \n",
       "4          yes  2011         Rav 4  "
      ]
     },
     "execution_count": 2,
     "metadata": {},
     "output_type": "execute_result"
    }
   ],
   "source": [
    "car_price = pd.read_csv('used_cars_prices.csv')\n",
    "car_price.head()"
   ]
  },
  {
   "cell_type": "markdown",
   "metadata": {},
   "source": [
    "### Data Preprocessing"
   ]
  },
  {
   "cell_type": "markdown",
   "metadata": {},
   "source": [
    "Summary of the dataset gives us an clear idea of the dataset about mean, median, standard deviation"
   ]
  },
  {
   "cell_type": "code",
   "execution_count": 3,
   "metadata": {},
   "outputs": [
    {
     "data": {
      "text/html": [
       "<div>\n",
       "<style scoped>\n",
       "    .dataframe tbody tr th:only-of-type {\n",
       "        vertical-align: middle;\n",
       "    }\n",
       "\n",
       "    .dataframe tbody tr th {\n",
       "        vertical-align: top;\n",
       "    }\n",
       "\n",
       "    .dataframe thead th {\n",
       "        text-align: right;\n",
       "    }\n",
       "</style>\n",
       "<table border=\"1\" class=\"dataframe\">\n",
       "  <thead>\n",
       "    <tr style=\"text-align: right;\">\n",
       "      <th></th>\n",
       "      <th>Brand</th>\n",
       "      <th>Price</th>\n",
       "      <th>Body</th>\n",
       "      <th>Mileage</th>\n",
       "      <th>EngineV</th>\n",
       "      <th>Engine Type</th>\n",
       "      <th>Registration</th>\n",
       "      <th>Year</th>\n",
       "      <th>Model</th>\n",
       "    </tr>\n",
       "  </thead>\n",
       "  <tbody>\n",
       "    <tr>\n",
       "      <th>count</th>\n",
       "      <td>4345</td>\n",
       "      <td>4173.000000</td>\n",
       "      <td>4345</td>\n",
       "      <td>4345.000000</td>\n",
       "      <td>4195.000000</td>\n",
       "      <td>4345</td>\n",
       "      <td>4345</td>\n",
       "      <td>4345.000000</td>\n",
       "      <td>4345</td>\n",
       "    </tr>\n",
       "    <tr>\n",
       "      <th>unique</th>\n",
       "      <td>7</td>\n",
       "      <td>NaN</td>\n",
       "      <td>6</td>\n",
       "      <td>NaN</td>\n",
       "      <td>NaN</td>\n",
       "      <td>4</td>\n",
       "      <td>2</td>\n",
       "      <td>NaN</td>\n",
       "      <td>312</td>\n",
       "    </tr>\n",
       "    <tr>\n",
       "      <th>top</th>\n",
       "      <td>Volkswagen</td>\n",
       "      <td>NaN</td>\n",
       "      <td>sedan</td>\n",
       "      <td>NaN</td>\n",
       "      <td>NaN</td>\n",
       "      <td>Diesel</td>\n",
       "      <td>yes</td>\n",
       "      <td>NaN</td>\n",
       "      <td>E-Class</td>\n",
       "    </tr>\n",
       "    <tr>\n",
       "      <th>freq</th>\n",
       "      <td>936</td>\n",
       "      <td>NaN</td>\n",
       "      <td>1649</td>\n",
       "      <td>NaN</td>\n",
       "      <td>NaN</td>\n",
       "      <td>2019</td>\n",
       "      <td>3947</td>\n",
       "      <td>NaN</td>\n",
       "      <td>199</td>\n",
       "    </tr>\n",
       "    <tr>\n",
       "      <th>mean</th>\n",
       "      <td>NaN</td>\n",
       "      <td>19418.746935</td>\n",
       "      <td>NaN</td>\n",
       "      <td>161.237284</td>\n",
       "      <td>2.790734</td>\n",
       "      <td>NaN</td>\n",
       "      <td>NaN</td>\n",
       "      <td>2006.550058</td>\n",
       "      <td>NaN</td>\n",
       "    </tr>\n",
       "    <tr>\n",
       "      <th>std</th>\n",
       "      <td>NaN</td>\n",
       "      <td>25584.242620</td>\n",
       "      <td>NaN</td>\n",
       "      <td>105.705797</td>\n",
       "      <td>5.066437</td>\n",
       "      <td>NaN</td>\n",
       "      <td>NaN</td>\n",
       "      <td>6.719097</td>\n",
       "      <td>NaN</td>\n",
       "    </tr>\n",
       "    <tr>\n",
       "      <th>min</th>\n",
       "      <td>NaN</td>\n",
       "      <td>600.000000</td>\n",
       "      <td>NaN</td>\n",
       "      <td>0.000000</td>\n",
       "      <td>0.600000</td>\n",
       "      <td>NaN</td>\n",
       "      <td>NaN</td>\n",
       "      <td>1969.000000</td>\n",
       "      <td>NaN</td>\n",
       "    </tr>\n",
       "    <tr>\n",
       "      <th>25%</th>\n",
       "      <td>NaN</td>\n",
       "      <td>6999.000000</td>\n",
       "      <td>NaN</td>\n",
       "      <td>86.000000</td>\n",
       "      <td>1.800000</td>\n",
       "      <td>NaN</td>\n",
       "      <td>NaN</td>\n",
       "      <td>2003.000000</td>\n",
       "      <td>NaN</td>\n",
       "    </tr>\n",
       "    <tr>\n",
       "      <th>50%</th>\n",
       "      <td>NaN</td>\n",
       "      <td>11500.000000</td>\n",
       "      <td>NaN</td>\n",
       "      <td>155.000000</td>\n",
       "      <td>2.200000</td>\n",
       "      <td>NaN</td>\n",
       "      <td>NaN</td>\n",
       "      <td>2008.000000</td>\n",
       "      <td>NaN</td>\n",
       "    </tr>\n",
       "    <tr>\n",
       "      <th>75%</th>\n",
       "      <td>NaN</td>\n",
       "      <td>21700.000000</td>\n",
       "      <td>NaN</td>\n",
       "      <td>230.000000</td>\n",
       "      <td>3.000000</td>\n",
       "      <td>NaN</td>\n",
       "      <td>NaN</td>\n",
       "      <td>2012.000000</td>\n",
       "      <td>NaN</td>\n",
       "    </tr>\n",
       "    <tr>\n",
       "      <th>max</th>\n",
       "      <td>NaN</td>\n",
       "      <td>300000.000000</td>\n",
       "      <td>NaN</td>\n",
       "      <td>980.000000</td>\n",
       "      <td>99.990000</td>\n",
       "      <td>NaN</td>\n",
       "      <td>NaN</td>\n",
       "      <td>2016.000000</td>\n",
       "      <td>NaN</td>\n",
       "    </tr>\n",
       "  </tbody>\n",
       "</table>\n",
       "</div>"
      ],
      "text/plain": [
       "             Brand          Price   Body      Mileage      EngineV  \\\n",
       "count         4345    4173.000000   4345  4345.000000  4195.000000   \n",
       "unique           7            NaN      6          NaN          NaN   \n",
       "top     Volkswagen            NaN  sedan          NaN          NaN   \n",
       "freq           936            NaN   1649          NaN          NaN   \n",
       "mean           NaN   19418.746935    NaN   161.237284     2.790734   \n",
       "std            NaN   25584.242620    NaN   105.705797     5.066437   \n",
       "min            NaN     600.000000    NaN     0.000000     0.600000   \n",
       "25%            NaN    6999.000000    NaN    86.000000     1.800000   \n",
       "50%            NaN   11500.000000    NaN   155.000000     2.200000   \n",
       "75%            NaN   21700.000000    NaN   230.000000     3.000000   \n",
       "max            NaN  300000.000000    NaN   980.000000    99.990000   \n",
       "\n",
       "       Engine Type Registration         Year    Model  \n",
       "count         4345         4345  4345.000000     4345  \n",
       "unique           4            2          NaN      312  \n",
       "top         Diesel          yes          NaN  E-Class  \n",
       "freq          2019         3947          NaN      199  \n",
       "mean           NaN          NaN  2006.550058      NaN  \n",
       "std            NaN          NaN     6.719097      NaN  \n",
       "min            NaN          NaN  1969.000000      NaN  \n",
       "25%            NaN          NaN  2003.000000      NaN  \n",
       "50%            NaN          NaN  2008.000000      NaN  \n",
       "75%            NaN          NaN  2012.000000      NaN  \n",
       "max            NaN          NaN  2016.000000      NaN  "
      ]
     },
     "execution_count": 3,
     "metadata": {},
     "output_type": "execute_result"
    }
   ],
   "source": [
    "#include all means it includes the categorical values also otherwise, only the numerical values will be displayes\n",
    "car_price.describe(include = 'all')"
   ]
  },
  {
   "cell_type": "markdown",
   "metadata": {},
   "source": [
    "**Insights from the Data :**\n",
    "    \n",
    " - There are 4345 observations with 9 columns\n",
    " - Columns Price and and EngineV have some null values.\n",
    " - Some columns have outliers"
   ]
  },
  {
   "cell_type": "markdown",
   "metadata": {},
   "source": [
    "### Dealing with the missing values"
   ]
  },
  {
   "cell_type": "code",
   "execution_count": 4,
   "metadata": {},
   "outputs": [
    {
     "data": {
      "text/plain": [
       "Brand             0\n",
       "Price           172\n",
       "Body              0\n",
       "Mileage           0\n",
       "EngineV         150\n",
       "Engine Type       0\n",
       "Registration      0\n",
       "Year              0\n",
       "Model             0\n",
       "dtype: int64"
      ]
     },
     "execution_count": 4,
     "metadata": {},
     "output_type": "execute_result"
    }
   ],
   "source": [
    "car_price.isna().sum()"
   ]
  },
  {
   "cell_type": "markdown",
   "metadata": {},
   "source": [
    "As there are large number of missing values in the dataset, we should not drop the outliers. We should replace them with other alternative ways such as Mean, median or by means of any other imputation."
   ]
  },
  {
   "cell_type": "markdown",
   "metadata": {
    "scrolled": true
   },
   "source": [
    "#### Price - Missing values"
   ]
  },
  {
   "cell_type": "code",
   "execution_count": 5,
   "metadata": {},
   "outputs": [
    {
     "name": "stdout",
     "output_type": "stream",
     "text": [
      "Percent of missing \"Price\" records is 3.96%\n"
     ]
    }
   ],
   "source": [
    "print('Percent of missing \"Price\" records is %.2f%%' %((car_price['Price'].isnull().sum()/car_price.shape[0])*100))"
   ]
  },
  {
   "cell_type": "markdown",
   "metadata": {},
   "source": [
    "~4% of entries for price of the car are missing. Let's see what the 'Price' variable looks like in general."
   ]
  },
  {
   "cell_type": "code",
   "execution_count": 6,
   "metadata": {},
   "outputs": [
    {
     "data": {
      "text/plain": [
       "<matplotlib.axes._subplots.AxesSubplot at 0x25b7f80f808>"
      ]
     },
     "execution_count": 6,
     "metadata": {},
     "output_type": "execute_result"
    },
    {
     "data": {
      "image/png": "[encoded data removed]",
      "text/plain": [
       "<Figure size 432x288 with 1 Axes>"
      ]
     },
     "metadata": {
      "needs_background": "light"
     },
     "output_type": "display_data"
    }
   ],
   "source": [
    "sns.distplot(car_price.Price)"
   ]
  },
  {
   "cell_type": "markdown",
   "metadata": {},
   "source": [
    "Since \"Price\" is (right) skewed, using the mean might give us biased results by filling in prices that are higher than desired. To deal with this, we'll use the median to impute the missing values as the median has no effect on the outliers"
   ]
  },
  {
   "cell_type": "code",
   "execution_count": 7,
   "metadata": {},
   "outputs": [],
   "source": [
    "#copying the entire data into a new dataframe\n",
    "car_data = car_price.copy()\n",
    "\n",
    "#Replacing the null values in the new dataset with the median of the original dataset\n",
    "car_data['Price'].fillna(car_price['Price'].median(skipna = True), inplace = True)"
   ]
  },
  {
   "cell_type": "markdown",
   "metadata": {},
   "source": [
    "#### EngineV - Missing Values"
   ]
  },
  {
   "cell_type": "code",
   "execution_count": 8,
   "metadata": {},
   "outputs": [
    {
     "name": "stdout",
     "output_type": "stream",
     "text": [
      "Percent of missing \"EngineV\" records is 3.45%\n"
     ]
    }
   ],
   "source": [
    "print('Percent of missing \"EngineV\" records is %.2f%%' %((car_price['EngineV'].isnull().sum()/car_price.shape[0])*100))"
   ]
  },
  {
   "cell_type": "markdown",
   "metadata": {},
   "source": [
    "Surprislnly, ~3.5% of entries for engineV(Engine Volume) of the car are missing. Let's see what the 'engineV' variable looks like in general."
   ]
  },
  {
   "cell_type": "code",
   "execution_count": 9,
   "metadata": {},
   "outputs": [
    {
     "data": {
      "text/plain": [
       "<matplotlib.axes._subplots.AxesSubplot at 0x25b21c6bfc8>"
      ]
     },
     "execution_count": 9,
     "metadata": {},
     "output_type": "execute_result"
    },
    {
     "data": {
      "image/png": "[encoded data removed]",
      "text/plain": [
       "<Figure size 432x288 with 1 Axes>"
      ]
     },
     "metadata": {
      "needs_background": "light"
     },
     "output_type": "display_data"
    }
   ],
   "source": [
    "sns.distplot(car_price.EngineV)"
   ]
  },
  {
   "cell_type": "markdown",
   "metadata": {},
   "source": [
    "Since \"EngineV\" is  also (right) skewed, using the mean might give us biased results by filling in prices that are higher than desired. To deal with this, we'll use the median to impute the missing values as the median has no effect on the outliers"
   ]
  },
  {
   "cell_type": "code",
   "execution_count": 10,
   "metadata": {},
   "outputs": [],
   "source": [
    "#Replacing the null values in the new dataset with the median of the original dataset\n",
    "car_data['EngineV'].fillna(car_price['EngineV'].median(skipna = True), inplace = True)"
   ]
  },
  {
   "cell_type": "markdown",
   "metadata": {},
   "source": [
    "Now, let's check again whether there are any missing values in the adjusted dataset"
   ]
  },
  {
   "cell_type": "code",
   "execution_count": 11,
   "metadata": {
    "scrolled": true
   },
   "outputs": [
    {
     "data": {
      "text/plain": [
       "Brand           0\n",
       "Price           0\n",
       "Body            0\n",
       "Mileage         0\n",
       "EngineV         0\n",
       "Engine Type     0\n",
       "Registration    0\n",
       "Year            0\n",
       "Model           0\n",
       "dtype: int64"
      ]
     },
     "execution_count": 11,
     "metadata": {},
     "output_type": "execute_result"
    }
   ],
   "source": [
    "car_data.isna().sum()"
   ]
  },
  {
   "cell_type": "markdown",
   "metadata": {},
   "source": [
    "## Exploratory Data Analysis(EDA)"
   ]
  },
  {
   "cell_type": "markdown",
   "metadata": {},
   "source": [
    "Let's explore the data carefully by visualization of the plots with all the features vs price as our ultimate goal is to find the price of the car for the features we consider"
   ]
  },
  {
   "cell_type": "markdown",
   "metadata": {},
   "source": [
    "### Exploration of Brand(Categorical Variable)"
   ]
  },
  {
   "cell_type": "code",
   "execution_count": 12,
   "metadata": {},
   "outputs": [
    {
     "data": {
      "text/plain": [
       "<matplotlib.axes._subplots.AxesSubplot at 0x25b21da0688>"
      ]
     },
     "execution_count": 12,
     "metadata": {},
     "output_type": "execute_result"
    },
    {
     "data": {
      "image/png": "[encoded data removed]",
      "text/plain": [
       "<Figure size 576x360 with 1 Axes>"
      ]
     },
     "metadata": {
      "needs_background": "light"
     },
     "output_type": "display_data"
    }
   ],
   "source": [
    "plt.figure(figsize = (8,5))\n",
    "sns.barplot('Brand', 'Price', data = car_data, color = 'green')"
   ]
  },
  {
   "cell_type": "markdown",
   "metadata": {},
   "source": [
    "From the plot,surprisingly,  we can see that **Mercedes-Benz** is the most sought brand used by the customers as it has so many comforts and amenities among high end cars which will be considered by only few customers"
   ]
  },
  {
   "cell_type": "markdown",
   "metadata": {},
   "source": [
    "### Exploration of Engine Type"
   ]
  },
  {
   "cell_type": "code",
   "execution_count": 13,
   "metadata": {},
   "outputs": [
    {
     "data": {
      "text/plain": [
       "<matplotlib.axes._subplots.AxesSubplot at 0x25b21dc7d88>"
      ]
     },
     "execution_count": 13,
     "metadata": {},
     "output_type": "execute_result"
    },
    {
     "data": {
      "image/png": "[encoded data removed]",
      "text/plain": [
       "<Figure size 576x360 with 1 Axes>"
      ]
     },
     "metadata": {
      "needs_background": "light"
     },
     "output_type": "display_data"
    }
   ],
   "source": [
    "plt.figure(figsize = (8,5))\n",
    "sns.barplot('Engine Type', 'Price', data = car_data, color = 'darkturquoise')"
   ]
  },
  {
   "cell_type": "markdown",
   "metadata": {},
   "source": [
    "Obviously, we all know that petrol cars have high prices because they are the most sold out cars in the market as they need not to travel regularly. Where as in the case of diesel cars, we need to start once in two days so that there will be no trouble in engine"
   ]
  },
  {
   "cell_type": "markdown",
   "metadata": {},
   "source": [
    "### Exploration of Body(Categorical Variable)"
   ]
  },
  {
   "cell_type": "code",
   "execution_count": 14,
   "metadata": {},
   "outputs": [
    {
     "data": {
      "text/plain": [
       "<matplotlib.axes._subplots.AxesSubplot at 0x25b21dc7cc8>"
      ]
     },
     "execution_count": 14,
     "metadata": {},
     "output_type": "execute_result"
    },
    {
     "data": {
      "image/png": "[encoded data removed]",
      "text/plain": [
       "<Figure size 576x360 with 1 Axes>"
      ]
     },
     "metadata": {
      "needs_background": "light"
     },
     "output_type": "display_data"
    }
   ],
   "source": [
    "plt.figure(figsize = (8,5))\n",
    "sns.barplot('Body', 'Price', data = car_data, color = 'aquamarine')"
   ]
  },
  {
   "cell_type": "markdown",
   "metadata": {},
   "source": [
    "Unsurprisingly, we can see that most people prefer cross over body type as it is affordable at reasonable price for the middle class customers who are our main target in the growth of our sales"
   ]
  },
  {
   "cell_type": "markdown",
   "metadata": {},
   "source": [
    "### Exploration of Mileage"
   ]
  },
  {
   "cell_type": "markdown",
   "metadata": {},
   "source": [
    "We will be using scatter plot as we are comparing two numerical variables"
   ]
  },
  {
   "cell_type": "code",
   "execution_count": 15,
   "metadata": {},
   "outputs": [
    {
     "data": {
      "image/png": "[encoded data removed]",
      "text/plain": [
       "<Figure size 576x360 with 1 Axes>"
      ]
     },
     "metadata": {
      "needs_background": "light"
     },
     "output_type": "display_data"
    }
   ],
   "source": [
    "car_data.plot(kind = 'scatter', x = 'Mileage', y = 'Price', color = 'black',\n",
    "             figsize = (8,5))\n",
    "\n",
    "plt.xlabel('Mileage of cars', fontsize = 13)\n",
    "plt.ylabel('Price of cars', fontsize = 13)\n",
    "plt.title('Scatter Plot of Mileage vs Price', fontsize = 16)\n",
    "\n",
    "plt.show()"
   ]
  },
  {
   "cell_type": "markdown",
   "metadata": {},
   "source": [
    "We can see that most of the cars mileage is in the range of 0 to 200. Also, we can observe that only small amount of outliers exist in our data"
   ]
  },
  {
   "cell_type": "markdown",
   "metadata": {},
   "source": [
    "### Exploration of EngineV"
   ]
  },
  {
   "cell_type": "code",
   "execution_count": 16,
   "metadata": {},
   "outputs": [
    {
     "data": {
      "image/png": "[encoded data removed]",
      "text/plain": [
       "<Figure size 576x360 with 1 Axes>"
      ]
     },
     "metadata": {
      "needs_background": "light"
     },
     "output_type": "display_data"
    }
   ],
   "source": [
    "car_data.plot(kind = 'scatter', x = 'EngineV', y = 'Price', color = 'red',\n",
    "             figsize = (8,5))\n",
    "\n",
    "plt.xlabel('Engine Volume of cars', fontsize = 13)\n",
    "plt.ylabel('Price of cars', fontsize = 13)\n",
    "plt.title('Scatter Plot of EngineV vs Price', fontsize = 16)\n",
    "\n",
    "plt.show()"
   ]
  },
  {
   "cell_type": "markdown",
   "metadata": {},
   "source": [
    "We can see that most of the engine volume of the cars is in the range of 0 to ~5. Also, we can observe that only small amount of outliers exist in our data"
   ]
  },
  {
   "cell_type": "markdown",
   "metadata": {},
   "source": [
    "### Exploration of Registration"
   ]
  },
  {
   "cell_type": "markdown",
   "metadata": {},
   "source": [
    "We can see from the data, registration is only of two types: **Yes or No**. So, we shall see the countplot"
   ]
  },
  {
   "cell_type": "code",
   "execution_count": 17,
   "metadata": {},
   "outputs": [
    {
     "data": {
      "text/plain": [
       "<matplotlib.axes._subplots.AxesSubplot at 0x25b2207c848>"
      ]
     },
     "execution_count": 17,
     "metadata": {},
     "output_type": "execute_result"
    },
    {
     "data": {
      "image/png": "[encoded data removed]",
      "text/plain": [
       "<Figure size 432x288 with 1 Axes>"
      ]
     },
     "metadata": {
      "needs_background": "light"
     },
     "output_type": "display_data"
    }
   ],
   "source": [
    "sns.barplot('Registration', 'Price', data = car_data)"
   ]
  },
  {
   "cell_type": "markdown",
   "metadata": {},
   "source": [
    "Unsurprisingly, we can see that cars which are having no registration have less price as without registration of vehicles it may lead to several legal problems and shall be kept behind bars at some times. So, usually almost all the cars which are registered have low price and very less in number and occur in rare cases"
   ]
  },
  {
   "cell_type": "markdown",
   "metadata": {},
   "source": [
    "### Exploration of year"
   ]
  },
  {
   "cell_type": "code",
   "execution_count": 18,
   "metadata": {
    "scrolled": true
   },
   "outputs": [
    {
     "data": {
      "text/plain": [
       "<matplotlib.axes._subplots.AxesSubplot at 0x25b220b8dc8>"
      ]
     },
     "execution_count": 18,
     "metadata": {},
     "output_type": "execute_result"
    },
    {
     "data": {
      "image/png": "[encoded data removed]",
      "text/plain": [
       "<Figure size 1440x360 with 1 Axes>"
      ]
     },
     "metadata": {
      "needs_background": "light"
     },
     "output_type": "display_data"
    }
   ],
   "source": [
    "plt.figure(figsize = (20,5))\n",
    "sns.barplot('Year', 'Price', data = car_data)"
   ]
  },
  {
   "cell_type": "markdown",
   "metadata": {},
   "source": [
    "Obviously, car with the latest model year have more price as they have high features when compared to old ones and also latest year cars will also be less used, they have high price.\n",
    "\n",
    "But surprisingly, 1969 model cars are having high prices. In reality, that model cars does not exist anymore. It might be during that period, they are in high price"
   ]
  },
  {
   "cell_type": "markdown",
   "metadata": {},
   "source": [
    "### Dealing with the Outliers"
   ]
  },
  {
   "cell_type": "markdown",
   "metadata": {},
   "source": [
    "This is a very important step of the process as outliers have the ability to influence the model in great manner. Also, for a good linear regression model, our data should be Normally Distributed and with outliers at any end, it will not be possible.\n",
    "\n",
    "We will be using box plot to look for outliers. So, to deal with outliers, let us replace the outlier value using the IQR instead of dropping them."
   ]
  },
  {
   "cell_type": "markdown",
   "metadata": {},
   "source": [
    "##### Creating a user defined function for Calculation of IQR"
   ]
  },
  {
   "cell_type": "code",
   "execution_count": 19,
   "metadata": {},
   "outputs": [],
   "source": [
    "def replace_outlier(col_name):\n",
    "    sorted(col_name)\n",
    "    Q1, Q3 = col_name.quantile([0.25, 0.75])\n",
    "    IQR = Q3 - Q1\n",
    "    lower_range = Q1 - (1.5 * IQR)\n",
    "    upper_range = Q3 + (1.5 * IQR)\n",
    "    return lower_range, upper_range"
   ]
  },
  {
   "cell_type": "markdown",
   "metadata": {},
   "source": [
    "#### Checking the outliers of Mileage Variable"
   ]
  },
  {
   "cell_type": "code",
   "execution_count": 20,
   "metadata": {},
   "outputs": [
    {
     "data": {
      "image/png": "[encoded data removed]",
      "text/plain": [
       "<Figure size 432x288 with 1 Axes>"
      ]
     },
     "metadata": {
      "needs_background": "light"
     },
     "output_type": "display_data"
    }
   ],
   "source": [
    "#Plotting the boxplot of the Mileage columns\n",
    "car_data.boxplot(column = 'Mileage', grid = False)\n",
    "#Setting the name of the x-axis\n",
    "plt.xlabel('Mileage of the car', fontsize = 12, color = 'blue')\n",
    "#Setting the title of the boxplot\n",
    "plt.title('BoxPlot of Mileage', fontsize = 18, color = 'red')\n",
    "plt.show()"
   ]
  },
  {
   "cell_type": "markdown",
   "metadata": {},
   "source": [
    "From this plot, we can see that there are some outliers which may affect the accuracy of our model. \n",
    "\n",
    "Now, let's replace the outliers with the IQR values as defined above. If any outlier present is greater than the upper range, then it will be replaced by upper range value. Similar works with lower range"
   ]
  },
  {
   "cell_type": "code",
   "execution_count": 21,
   "metadata": {},
   "outputs": [],
   "source": [
    "#Calling the function and declaring the upper range and lower range values\n",
    "lowerrange, upperrange = replace_outlier(car_data['Mileage'])\n",
    "\n",
    "#If any value in the mileage is greater than the upperrange, then it gets replaced by the upper range value\n",
    "car_data['Mileage'] = np.where(car_data['Mileage'] > upperrange, upperrange, car_data['Mileage'])\n",
    "#If any value in the mileage is less than the lowerrange, then it gets replaced by the lower range value\n",
    "car_data['Mileage'] = np.where(car_data['Mileage'] < lowerrange, lowerrange, car_data['Mileage'])"
   ]
  },
  {
   "cell_type": "markdown",
   "metadata": {},
   "source": [
    "Now, let's visualize if there are any outliers in our data using boxplot"
   ]
  },
  {
   "cell_type": "code",
   "execution_count": 22,
   "metadata": {},
   "outputs": [
    {
     "data": {
      "image/png": "[encoded data removed]",
      "text/plain": [
       "<Figure size 432x288 with 1 Axes>"
      ]
     },
     "metadata": {
      "needs_background": "light"
     },
     "output_type": "display_data"
    }
   ],
   "source": [
    "#Plotting the boxplot of the Mileage columns\n",
    "car_data.boxplot(column = 'Mileage', grid = False)\n",
    "#Setting the name of the x-axis\n",
    "plt.xlabel('Mileage of the car', fontsize = 12, color = 'blue')\n",
    "#Setting the title of the boxplot\n",
    "plt.title('BoxPlot of Mileage', fontsize = 18, color = 'red')\n",
    "plt.show()"
   ]
  },
  {
   "cell_type": "markdown",
   "metadata": {},
   "source": [
    "Now, we can see that there are not outliers in the Mileage column as the outliers are replaced"
   ]
  },
  {
   "cell_type": "markdown",
   "metadata": {},
   "source": [
    "#### Checking the outliers of EngineV Variable"
   ]
  },
  {
   "cell_type": "code",
   "execution_count": 23,
   "metadata": {},
   "outputs": [
    {
     "data": {
      "image/png": "[encoded data removed]",
      "text/plain": [
       "<Figure size 432x288 with 1 Axes>"
      ]
     },
     "metadata": {
      "needs_background": "light"
     },
     "output_type": "display_data"
    }
   ],
   "source": [
    "#Plotting the boxplot of the Mileage columns\n",
    "car_data.boxplot(column = 'EngineV', grid = False)\n",
    "#Setting the name of the x-axis\n",
    "plt.xlabel('Engine Volume of the car', fontsize = 12, color = 'blue')\n",
    "#Setting the title of the boxplot\n",
    "plt.title('BoxPlot of EngineV', fontsize = 18, color = 'red')\n",
    "plt.show()"
   ]
  },
  {
   "cell_type": "markdown",
   "metadata": {},
   "source": [
    "From this plot, we can see that there are many outliers which may affect the accuracy of our model. Even dropping them affect our data badly and it is not a good measure \n",
    "\n",
    "So, let's replace the outliers with the IQR values as defined above. If any outlier present is greater than the upper range, then it will be replaced by upper range value. Similar works with lower range"
   ]
  },
  {
   "cell_type": "code",
   "execution_count": 24,
   "metadata": {},
   "outputs": [],
   "source": [
    "#Calling the function and declaring the upper range and lower range values\n",
    "lowerrange, upperrange = replace_outlier(car_data['EngineV'])\n",
    "\n",
    "#If any value in the mileage is greater than the upperrange, then it gets replaced by the upper range value\n",
    "car_data['EngineV'] = np.where(car_data['EngineV'] > upperrange, upperrange, car_data['EngineV'])\n",
    "#If any value in the mileage is less than the lowerrange, then it gets replaced by the lower range value\n",
    "car_data['EngineV'] = np.where(car_data['EngineV'] < lowerrange, lowerrange, car_data['EngineV'])"
   ]
  },
  {
   "cell_type": "markdown",
   "metadata": {},
   "source": [
    "Now, let's visualize if there are any outliers in our data using boxplot"
   ]
  },
  {
   "cell_type": "code",
   "execution_count": 25,
   "metadata": {},
   "outputs": [
    {
     "data": {
      "image/png": "[encoded data removed]",
      "text/plain": [
       "<Figure size 432x288 with 1 Axes>"
      ]
     },
     "metadata": {
      "needs_background": "light"
     },
     "output_type": "display_data"
    }
   ],
   "source": [
    "#Plotting the boxplot of the Mileage columns\n",
    "car_data.boxplot(column = 'EngineV', grid = False)\n",
    "#Setting the name of the x-axis\n",
    "plt.xlabel('Engine Volume of the car', fontsize = 12, color = 'blue')\n",
    "#Setting the title of the boxplot\n",
    "plt.title('BoxPlot of EngineV', fontsize = 18, color = 'red')\n",
    "plt.show()"
   ]
  },
  {
   "cell_type": "markdown",
   "metadata": {},
   "source": [
    "Now, we can see that there are not outliers in the EngineV column as all the outliers are replaced"
   ]
  },
  {
   "cell_type": "markdown",
   "metadata": {},
   "source": [
    "**Let us find the correlation between all the features using a heatmap**"
   ]
  },
  {
   "cell_type": "code",
   "execution_count": 26,
   "metadata": {},
   "outputs": [
    {
     "data": {
      "text/plain": [
       "<matplotlib.axes._subplots.AxesSubplot at 0x25b22571708>"
      ]
     },
     "execution_count": 26,
     "metadata": {},
     "output_type": "execute_result"
    },
    {
     "data": {
      "image/png": "[encoded data removed]",
      "text/plain": [
       "<Figure size 432x288 with 2 Axes>"
      ]
     },
     "metadata": {
      "needs_background": "light"
     },
     "output_type": "display_data"
    }
   ],
   "source": [
    "sns.heatmap(car_data.corr(), annot=True)"
   ]
  },
  {
   "cell_type": "markdown",
   "metadata": {},
   "source": [
    "From the heatmap, we can clearly observe that there is a strong relationship between price and year"
   ]
  },
  {
   "cell_type": "markdown",
   "metadata": {},
   "source": [
    "### One Hot Encoding"
   ]
  },
  {
   "cell_type": "markdown",
   "metadata": {},
   "source": [
    "One-Hot-Encoding is used to create dummy variables to replace the categories in a categorical variable into features of each category and represent it using 1 or 0 based on the presence or absence of the categorical value in the record.\n",
    "\n",
    "This is required to do since the machine learning algorithms only work on the numerical data. That is why there is a need to convert the categorical column into a numerical one.\n",
    "\n",
    "get_dummies is the method that creates a dummy variable for each categorical variable."
   ]
  },
  {
   "cell_type": "code",
   "execution_count": 27,
   "metadata": {},
   "outputs": [
    {
     "data": {
      "text/html": [
       "<div>\n",
       "<style scoped>\n",
       "    .dataframe tbody tr th:only-of-type {\n",
       "        vertical-align: middle;\n",
       "    }\n",
       "\n",
       "    .dataframe tbody tr th {\n",
       "        vertical-align: top;\n",
       "    }\n",
       "\n",
       "    .dataframe thead th {\n",
       "        text-align: right;\n",
       "    }\n",
       "</style>\n",
       "<table border=\"1\" class=\"dataframe\">\n",
       "  <thead>\n",
       "    <tr style=\"text-align: right;\">\n",
       "      <th></th>\n",
       "      <th>Price</th>\n",
       "      <th>Mileage</th>\n",
       "      <th>EngineV</th>\n",
       "      <th>Year</th>\n",
       "      <th>Model</th>\n",
       "      <th>Brand_Audi</th>\n",
       "      <th>Brand_BMW</th>\n",
       "      <th>Brand_Mercedes-Benz</th>\n",
       "      <th>Brand_Mitsubishi</th>\n",
       "      <th>Brand_Renault</th>\n",
       "      <th>...</th>\n",
       "      <th>Body_other</th>\n",
       "      <th>Body_sedan</th>\n",
       "      <th>Body_vagon</th>\n",
       "      <th>Body_van</th>\n",
       "      <th>Engine Type_Diesel</th>\n",
       "      <th>Engine Type_Gas</th>\n",
       "      <th>Engine Type_Other</th>\n",
       "      <th>Engine Type_Petrol</th>\n",
       "      <th>Registration_no</th>\n",
       "      <th>Registration_yes</th>\n",
       "    </tr>\n",
       "  </thead>\n",
       "  <tbody>\n",
       "    <tr>\n",
       "      <th>0</th>\n",
       "      <td>4200.0</td>\n",
       "      <td>277.0</td>\n",
       "      <td>2.00</td>\n",
       "      <td>1991</td>\n",
       "      <td>320</td>\n",
       "      <td>0</td>\n",
       "      <td>1</td>\n",
       "      <td>0</td>\n",
       "      <td>0</td>\n",
       "      <td>0</td>\n",
       "      <td>...</td>\n",
       "      <td>0</td>\n",
       "      <td>1</td>\n",
       "      <td>0</td>\n",
       "      <td>0</td>\n",
       "      <td>0</td>\n",
       "      <td>0</td>\n",
       "      <td>0</td>\n",
       "      <td>1</td>\n",
       "      <td>0</td>\n",
       "      <td>1</td>\n",
       "    </tr>\n",
       "    <tr>\n",
       "      <th>1</th>\n",
       "      <td>7900.0</td>\n",
       "      <td>427.0</td>\n",
       "      <td>2.90</td>\n",
       "      <td>1999</td>\n",
       "      <td>Sprinter 212</td>\n",
       "      <td>0</td>\n",
       "      <td>0</td>\n",
       "      <td>1</td>\n",
       "      <td>0</td>\n",
       "      <td>0</td>\n",
       "      <td>...</td>\n",
       "      <td>0</td>\n",
       "      <td>0</td>\n",
       "      <td>0</td>\n",
       "      <td>1</td>\n",
       "      <td>1</td>\n",
       "      <td>0</td>\n",
       "      <td>0</td>\n",
       "      <td>0</td>\n",
       "      <td>0</td>\n",
       "      <td>1</td>\n",
       "    </tr>\n",
       "    <tr>\n",
       "      <th>2</th>\n",
       "      <td>13300.0</td>\n",
       "      <td>358.0</td>\n",
       "      <td>4.65</td>\n",
       "      <td>2003</td>\n",
       "      <td>S 500</td>\n",
       "      <td>0</td>\n",
       "      <td>0</td>\n",
       "      <td>1</td>\n",
       "      <td>0</td>\n",
       "      <td>0</td>\n",
       "      <td>...</td>\n",
       "      <td>0</td>\n",
       "      <td>1</td>\n",
       "      <td>0</td>\n",
       "      <td>0</td>\n",
       "      <td>0</td>\n",
       "      <td>1</td>\n",
       "      <td>0</td>\n",
       "      <td>0</td>\n",
       "      <td>0</td>\n",
       "      <td>1</td>\n",
       "    </tr>\n",
       "    <tr>\n",
       "      <th>3</th>\n",
       "      <td>23000.0</td>\n",
       "      <td>240.0</td>\n",
       "      <td>4.20</td>\n",
       "      <td>2007</td>\n",
       "      <td>Q7</td>\n",
       "      <td>1</td>\n",
       "      <td>0</td>\n",
       "      <td>0</td>\n",
       "      <td>0</td>\n",
       "      <td>0</td>\n",
       "      <td>...</td>\n",
       "      <td>0</td>\n",
       "      <td>0</td>\n",
       "      <td>0</td>\n",
       "      <td>0</td>\n",
       "      <td>0</td>\n",
       "      <td>0</td>\n",
       "      <td>0</td>\n",
       "      <td>1</td>\n",
       "      <td>0</td>\n",
       "      <td>1</td>\n",
       "    </tr>\n",
       "    <tr>\n",
       "      <th>4</th>\n",
       "      <td>18300.0</td>\n",
       "      <td>120.0</td>\n",
       "      <td>2.00</td>\n",
       "      <td>2011</td>\n",
       "      <td>Rav 4</td>\n",
       "      <td>0</td>\n",
       "      <td>0</td>\n",
       "      <td>0</td>\n",
       "      <td>0</td>\n",
       "      <td>0</td>\n",
       "      <td>...</td>\n",
       "      <td>0</td>\n",
       "      <td>0</td>\n",
       "      <td>0</td>\n",
       "      <td>0</td>\n",
       "      <td>0</td>\n",
       "      <td>0</td>\n",
       "      <td>0</td>\n",
       "      <td>1</td>\n",
       "      <td>0</td>\n",
       "      <td>1</td>\n",
       "    </tr>\n",
       "  </tbody>\n",
       "</table>\n",
       "<p>5 rows × 24 columns</p>\n",
       "</div>"
      ],
      "text/plain": [
       "     Price  Mileage  EngineV  Year         Model  Brand_Audi  Brand_BMW  \\\n",
       "0   4200.0    277.0     2.00  1991           320           0          1   \n",
       "1   7900.0    427.0     2.90  1999  Sprinter 212           0          0   \n",
       "2  13300.0    358.0     4.65  2003         S 500           0          0   \n",
       "3  23000.0    240.0     4.20  2007            Q7           1          0   \n",
       "4  18300.0    120.0     2.00  2011         Rav 4           0          0   \n",
       "\n",
       "   Brand_Mercedes-Benz  Brand_Mitsubishi  Brand_Renault  ...  Body_other  \\\n",
       "0                    0                 0              0  ...           0   \n",
       "1                    1                 0              0  ...           0   \n",
       "2                    1                 0              0  ...           0   \n",
       "3                    0                 0              0  ...           0   \n",
       "4                    0                 0              0  ...           0   \n",
       "\n",
       "   Body_sedan  Body_vagon  Body_van  Engine Type_Diesel  Engine Type_Gas  \\\n",
       "0           1           0         0                   0                0   \n",
       "1           0           0         1                   1                0   \n",
       "2           1           0         0                   0                1   \n",
       "3           0           0         0                   0                0   \n",
       "4           0           0         0                   0                0   \n",
       "\n",
       "   Engine Type_Other  Engine Type_Petrol  Registration_no  Registration_yes  \n",
       "0                  0                   1                0                 1  \n",
       "1                  0                   0                0                 1  \n",
       "2                  0                   0                0                 1  \n",
       "3                  0                   1                0                 1  \n",
       "4                  0                   1                0                 1  \n",
       "\n",
       "[5 rows x 24 columns]"
      ]
     },
     "execution_count": 27,
     "metadata": {},
     "output_type": "execute_result"
    }
   ],
   "source": [
    "final_data = pd.get_dummies(car_data, columns = ['Brand', 'Body', 'Engine Type', 'Registration'])\n",
    "final_data.head()"
   ]
  },
  {
   "cell_type": "markdown",
   "metadata": {},
   "source": [
    "Now, we can see that categorical variables are converted into numerical format. Hence, the number of columns have been increased."
   ]
  },
  {
   "cell_type": "markdown",
   "metadata": {},
   "source": [
    "### Checking the Assumtions of Linear Regression"
   ]
  },
  {
   "cell_type": "markdown",
   "metadata": {},
   "source": [
    "we need to check some assumptions that need to be true before applying Linear Regression."
   ]
  },
  {
   "cell_type": "markdown",
   "metadata": {},
   "source": [
    "#### 1. Linearity"
   ]
  },
  {
   "cell_type": "markdown",
   "metadata": {},
   "source": [
    "First up, we need to check whehter all of the features of our to be model are in linear relationship with the target or not.\n",
    "\n",
    "Best way to do this is plotting a scatter chart of each feature with the target individually. We can use plt.scatter() for this purpose but to make it more presentable and comparable we will be plotting all scatters in same line and since 'price' is common for each scatter chart, we will make an equation in which it is shared by all other regressors."
   ]
  },
  {
   "cell_type": "code",
   "execution_count": 28,
   "metadata": {},
   "outputs": [
    {
     "data": {
      "image/png": "[encoded data removed]",
      "text/plain": [
       "<Figure size 1080x216 with 3 Axes>"
      ]
     },
     "metadata": {
      "needs_background": "light"
     },
     "output_type": "display_data"
    }
   ],
   "source": [
    "#sharey -> Controls sharing of properties among y axes:\n",
    "#1, 3 -> No.of rows and columns\n",
    "y, (x1, x2, x3) = plt.subplots(1, 3, sharey=True, figsize =(15,3))\n",
    "\n",
    "#Plotting the scatter plot of Mileage vs Price\n",
    "x1.scatter(final_data['Mileage'],final_data['Price'])\n",
    "x1.set_title('Price and Mileage')\n",
    "\n",
    "#Plotting the scatter plot of EngineV vs Price\n",
    "x2.scatter(final_data['EngineV'],final_data['Price'])\n",
    "x2.set_title('Price and EngineV')\n",
    "\n",
    "#Plotting the scatter plot of Year vs Price\n",
    "x3.scatter(final_data['Year'],final_data['Price'])\n",
    "x3.set_title('Price and Year')\n",
    "\n",
    "#To show the plots\n",
    "plt.show()"
   ]
  },
  {
   "cell_type": "markdown",
   "metadata": {},
   "source": [
    "Looking at these charts, we can say that none of the regressor seem to be in linear relationship with the target. To fix this problem we can transfer one of the variable in the charts. Since, price is common, let's transform it first. We will also be dropping column 'Price'. We will call new data frame linear_data and add log_price columns by removing price columns"
   ]
  },
  {
   "cell_type": "markdown",
   "metadata": {},
   "source": [
    "##### Applying Log Transformation Feature Engineering Technique to get Linearity"
   ]
  },
  {
   "cell_type": "code",
   "execution_count": 29,
   "metadata": {},
   "outputs": [
    {
     "data": {
      "text/html": [
       "<div>\n",
       "<style scoped>\n",
       "    .dataframe tbody tr th:only-of-type {\n",
       "        vertical-align: middle;\n",
       "    }\n",
       "\n",
       "    .dataframe tbody tr th {\n",
       "        vertical-align: top;\n",
       "    }\n",
       "\n",
       "    .dataframe thead th {\n",
       "        text-align: right;\n",
       "    }\n",
       "</style>\n",
       "<table border=\"1\" class=\"dataframe\">\n",
       "  <thead>\n",
       "    <tr style=\"text-align: right;\">\n",
       "      <th></th>\n",
       "      <th>Mileage</th>\n",
       "      <th>EngineV</th>\n",
       "      <th>Year</th>\n",
       "      <th>Model</th>\n",
       "      <th>Brand_Audi</th>\n",
       "      <th>Brand_BMW</th>\n",
       "      <th>Brand_Mercedes-Benz</th>\n",
       "      <th>Brand_Mitsubishi</th>\n",
       "      <th>Brand_Renault</th>\n",
       "      <th>Brand_Toyota</th>\n",
       "      <th>...</th>\n",
       "      <th>Body_sedan</th>\n",
       "      <th>Body_vagon</th>\n",
       "      <th>Body_van</th>\n",
       "      <th>Engine Type_Diesel</th>\n",
       "      <th>Engine Type_Gas</th>\n",
       "      <th>Engine Type_Other</th>\n",
       "      <th>Engine Type_Petrol</th>\n",
       "      <th>Registration_no</th>\n",
       "      <th>Registration_yes</th>\n",
       "      <th>LogPrice</th>\n",
       "    </tr>\n",
       "  </thead>\n",
       "  <tbody>\n",
       "    <tr>\n",
       "      <th>0</th>\n",
       "      <td>277.0</td>\n",
       "      <td>2.00</td>\n",
       "      <td>1991</td>\n",
       "      <td>320</td>\n",
       "      <td>0</td>\n",
       "      <td>1</td>\n",
       "      <td>0</td>\n",
       "      <td>0</td>\n",
       "      <td>0</td>\n",
       "      <td>0</td>\n",
       "      <td>...</td>\n",
       "      <td>1</td>\n",
       "      <td>0</td>\n",
       "      <td>0</td>\n",
       "      <td>0</td>\n",
       "      <td>0</td>\n",
       "      <td>0</td>\n",
       "      <td>1</td>\n",
       "      <td>0</td>\n",
       "      <td>1</td>\n",
       "      <td>8.342840</td>\n",
       "    </tr>\n",
       "    <tr>\n",
       "      <th>1</th>\n",
       "      <td>427.0</td>\n",
       "      <td>2.90</td>\n",
       "      <td>1999</td>\n",
       "      <td>Sprinter 212</td>\n",
       "      <td>0</td>\n",
       "      <td>0</td>\n",
       "      <td>1</td>\n",
       "      <td>0</td>\n",
       "      <td>0</td>\n",
       "      <td>0</td>\n",
       "      <td>...</td>\n",
       "      <td>0</td>\n",
       "      <td>0</td>\n",
       "      <td>1</td>\n",
       "      <td>1</td>\n",
       "      <td>0</td>\n",
       "      <td>0</td>\n",
       "      <td>0</td>\n",
       "      <td>0</td>\n",
       "      <td>1</td>\n",
       "      <td>8.974618</td>\n",
       "    </tr>\n",
       "    <tr>\n",
       "      <th>2</th>\n",
       "      <td>358.0</td>\n",
       "      <td>4.65</td>\n",
       "      <td>2003</td>\n",
       "      <td>S 500</td>\n",
       "      <td>0</td>\n",
       "      <td>0</td>\n",
       "      <td>1</td>\n",
       "      <td>0</td>\n",
       "      <td>0</td>\n",
       "      <td>0</td>\n",
       "      <td>...</td>\n",
       "      <td>1</td>\n",
       "      <td>0</td>\n",
       "      <td>0</td>\n",
       "      <td>0</td>\n",
       "      <td>1</td>\n",
       "      <td>0</td>\n",
       "      <td>0</td>\n",
       "      <td>0</td>\n",
       "      <td>1</td>\n",
       "      <td>9.495519</td>\n",
       "    </tr>\n",
       "  </tbody>\n",
       "</table>\n",
       "<p>3 rows × 24 columns</p>\n",
       "</div>"
      ],
      "text/plain": [
       "   Mileage  EngineV  Year         Model  Brand_Audi  Brand_BMW  \\\n",
       "0    277.0     2.00  1991           320           0          1   \n",
       "1    427.0     2.90  1999  Sprinter 212           0          0   \n",
       "2    358.0     4.65  2003         S 500           0          0   \n",
       "\n",
       "   Brand_Mercedes-Benz  Brand_Mitsubishi  Brand_Renault  Brand_Toyota  ...  \\\n",
       "0                    0                 0              0             0  ...   \n",
       "1                    1                 0              0             0  ...   \n",
       "2                    1                 0              0             0  ...   \n",
       "\n",
       "   Body_sedan  Body_vagon  Body_van  Engine Type_Diesel  Engine Type_Gas  \\\n",
       "0           1           0         0                   0                0   \n",
       "1           0           0         1                   1                0   \n",
       "2           1           0         0                   0                1   \n",
       "\n",
       "   Engine Type_Other  Engine Type_Petrol  Registration_no  Registration_yes  \\\n",
       "0                  0                   1                0                 1   \n",
       "1                  0                   0                0                 1   \n",
       "2                  0                   0                0                 1   \n",
       "\n",
       "   LogPrice  \n",
       "0  8.342840  \n",
       "1  8.974618  \n",
       "2  9.495519  \n",
       "\n",
       "[3 rows x 24 columns]"
      ]
     },
     "execution_count": 29,
     "metadata": {},
     "output_type": "execute_result"
    }
   ],
   "source": [
    "final_data[\"LogPrice\"] = np.log(final_data[\"Price\"])\n",
    "linear_data = final_data.drop([\"Price\"], axis = 1)\n",
    "linear_data.head(3)"
   ]
  },
  {
   "cell_type": "markdown",
   "metadata": {},
   "source": [
    "Prices have been transformed. Let's plot scatter chart again with transformed prices."
   ]
  },
  {
   "cell_type": "code",
   "execution_count": 30,
   "metadata": {},
   "outputs": [
    {
     "data": {
      "image/png": "[encoded data removed]",
      "text/plain": [
       "<Figure size 1080x216 with 3 Axes>"
      ]
     },
     "metadata": {
      "needs_background": "light"
     },
     "output_type": "display_data"
    }
   ],
   "source": [
    "#sharey -> Controls sharing of properties among y axes:\n",
    "#1, 3 -> No.of rows and columns\n",
    "y, (x1, x2, x3) = plt.subplots(1, 3, sharey=True, figsize =(15,3))\n",
    "\n",
    "#Plotting the scatter plot of Mileage vs Price\n",
    "x1.scatter(linear_data['Mileage'],linear_data['LogPrice'])\n",
    "x1.set_title('Price and Mileage')\n",
    "\n",
    "#Plotting the scatter plot of EngineV vs Price\n",
    "x2.scatter(linear_data['EngineV'],linear_data['LogPrice'])\n",
    "x2.set_title('Price and EngineV')\n",
    "\n",
    "#Plotting the scatter plot of Year vs Price\n",
    "x3.scatter(linear_data['Year'],linear_data['LogPrice'])\n",
    "x3.set_title('Price and Year')\n",
    "\n",
    "#To show the plots\n",
    "plt.show()"
   ]
  },
  {
   "cell_type": "markdown",
   "metadata": {},
   "source": [
    "Now, we can see some linear relationship between target and regressors."
   ]
  },
  {
   "cell_type": "markdown",
   "metadata": {},
   "source": [
    "#### Multi-Collinearity"
   ]
  },
  {
   "cell_type": "markdown",
   "metadata": {},
   "source": [
    "Multicollinearity can be detected via various methods. We will focus on VIF (Variable Inflation Factors). \n",
    "\n",
    "VIF measures the ratio between the variance for a given regression coefficient with only that variable in the model versus the variance for a given regression coefficient with all variables in the model.\n",
    "\n",
    "We have a method for that in statsmodels, let's import the required module for that method."
   ]
  },
  {
   "cell_type": "code",
   "execution_count": 31,
   "metadata": {},
   "outputs": [],
   "source": [
    "from statsmodels.stats.outliers_influence import variance_inflation_factor"
   ]
  },
  {
   "cell_type": "markdown",
   "metadata": {},
   "source": [
    "We will only be checking numerical variables as categorical variables do not have interdependencies among them.\n",
    "\n",
    "First, we need to create a DataFrame of to-be checked variables and a DataFrame to insert VIF values in it."
   ]
  },
  {
   "cell_type": "code",
   "execution_count": 32,
   "metadata": {},
   "outputs": [],
   "source": [
    "variables = linear_data[[\"Mileage\", \"EngineV\", \"Year\"]]\n",
    "vif = pd.DataFrame()"
   ]
  },
  {
   "cell_type": "markdown",
   "metadata": {},
   "source": [
    "#### Calculating VIF"
   ]
  },
  {
   "cell_type": "code",
   "execution_count": 33,
   "metadata": {},
   "outputs": [
    {
     "data": {
      "text/html": [
       "<div>\n",
       "<style scoped>\n",
       "    .dataframe tbody tr th:only-of-type {\n",
       "        vertical-align: middle;\n",
       "    }\n",
       "\n",
       "    .dataframe tbody tr th {\n",
       "        vertical-align: top;\n",
       "    }\n",
       "\n",
       "    .dataframe thead th {\n",
       "        text-align: right;\n",
       "    }\n",
       "</style>\n",
       "<table border=\"1\" class=\"dataframe\">\n",
       "  <thead>\n",
       "    <tr style=\"text-align: right;\">\n",
       "      <th></th>\n",
       "      <th>Features</th>\n",
       "      <th>VIF</th>\n",
       "    </tr>\n",
       "  </thead>\n",
       "  <tbody>\n",
       "    <tr>\n",
       "      <th>0</th>\n",
       "      <td>Mileage</td>\n",
       "      <td>3.463533</td>\n",
       "    </tr>\n",
       "    <tr>\n",
       "      <th>1</th>\n",
       "      <td>EngineV</td>\n",
       "      <td>8.738600</td>\n",
       "    </tr>\n",
       "    <tr>\n",
       "      <th>2</th>\n",
       "      <td>Year</td>\n",
       "      <td>11.537189</td>\n",
       "    </tr>\n",
       "  </tbody>\n",
       "</table>\n",
       "</div>"
      ],
      "text/plain": [
       "  Features        VIF\n",
       "0  Mileage   3.463533\n",
       "1  EngineV   8.738600\n",
       "2     Year  11.537189"
      ]
     },
     "execution_count": 33,
     "metadata": {},
     "output_type": "execute_result"
    }
   ],
   "source": [
    "vif[\"VIF\"] = [variance_inflation_factor(variables.values, i) for i in range(variables.shape[1])]\n",
    "vif[\"Features\"] = variables.columns\n",
    "vif = vif[[\"Features\", \"VIF\"]]\n",
    "vif"
   ]
  },
  {
   "cell_type": "markdown",
   "metadata": {},
   "source": [
    "**Findings :** We have got VIF for each factor.\n",
    "\n",
    "VIF may range from 1 to inf.\n",
    "\n",
    " - VIF starts at 1 and has no upper limit\n",
    " - VIF = 1, no correlation between the independent variable and the other variables\n",
    " - VIF exceeding 10 indicates high multicollinearity between this independent variable and the others\n",
    "\n",
    "Year has VIF > 10. And it seem fair, mileage and year are interdependent. One way to fix this is dropping one, let's drop 'Year'. We will call it qualified data after dropping 'Year'. We are dropping the variable 'Model' also it is difficult to encode them into numerical variables as it contains more unique values"
   ]
  },
  {
   "cell_type": "code",
   "execution_count": 34,
   "metadata": {},
   "outputs": [
    {
     "data": {
      "text/html": [
       "<div>\n",
       "<style scoped>\n",
       "    .dataframe tbody tr th:only-of-type {\n",
       "        vertical-align: middle;\n",
       "    }\n",
       "\n",
       "    .dataframe tbody tr th {\n",
       "        vertical-align: top;\n",
       "    }\n",
       "\n",
       "    .dataframe thead th {\n",
       "        text-align: right;\n",
       "    }\n",
       "</style>\n",
       "<table border=\"1\" class=\"dataframe\">\n",
       "  <thead>\n",
       "    <tr style=\"text-align: right;\">\n",
       "      <th></th>\n",
       "      <th>Mileage</th>\n",
       "      <th>EngineV</th>\n",
       "      <th>Brand_Audi</th>\n",
       "      <th>Brand_BMW</th>\n",
       "      <th>Brand_Mercedes-Benz</th>\n",
       "      <th>Brand_Mitsubishi</th>\n",
       "      <th>Brand_Renault</th>\n",
       "      <th>Brand_Toyota</th>\n",
       "      <th>Brand_Volkswagen</th>\n",
       "      <th>Body_crossover</th>\n",
       "      <th>...</th>\n",
       "      <th>Body_sedan</th>\n",
       "      <th>Body_vagon</th>\n",
       "      <th>Body_van</th>\n",
       "      <th>Engine Type_Diesel</th>\n",
       "      <th>Engine Type_Gas</th>\n",
       "      <th>Engine Type_Other</th>\n",
       "      <th>Engine Type_Petrol</th>\n",
       "      <th>Registration_no</th>\n",
       "      <th>Registration_yes</th>\n",
       "      <th>LogPrice</th>\n",
       "    </tr>\n",
       "  </thead>\n",
       "  <tbody>\n",
       "    <tr>\n",
       "      <th>0</th>\n",
       "      <td>277.0</td>\n",
       "      <td>2.00</td>\n",
       "      <td>0</td>\n",
       "      <td>1</td>\n",
       "      <td>0</td>\n",
       "      <td>0</td>\n",
       "      <td>0</td>\n",
       "      <td>0</td>\n",
       "      <td>0</td>\n",
       "      <td>0</td>\n",
       "      <td>...</td>\n",
       "      <td>1</td>\n",
       "      <td>0</td>\n",
       "      <td>0</td>\n",
       "      <td>0</td>\n",
       "      <td>0</td>\n",
       "      <td>0</td>\n",
       "      <td>1</td>\n",
       "      <td>0</td>\n",
       "      <td>1</td>\n",
       "      <td>8.342840</td>\n",
       "    </tr>\n",
       "    <tr>\n",
       "      <th>1</th>\n",
       "      <td>427.0</td>\n",
       "      <td>2.90</td>\n",
       "      <td>0</td>\n",
       "      <td>0</td>\n",
       "      <td>1</td>\n",
       "      <td>0</td>\n",
       "      <td>0</td>\n",
       "      <td>0</td>\n",
       "      <td>0</td>\n",
       "      <td>0</td>\n",
       "      <td>...</td>\n",
       "      <td>0</td>\n",
       "      <td>0</td>\n",
       "      <td>1</td>\n",
       "      <td>1</td>\n",
       "      <td>0</td>\n",
       "      <td>0</td>\n",
       "      <td>0</td>\n",
       "      <td>0</td>\n",
       "      <td>1</td>\n",
       "      <td>8.974618</td>\n",
       "    </tr>\n",
       "    <tr>\n",
       "      <th>2</th>\n",
       "      <td>358.0</td>\n",
       "      <td>4.65</td>\n",
       "      <td>0</td>\n",
       "      <td>0</td>\n",
       "      <td>1</td>\n",
       "      <td>0</td>\n",
       "      <td>0</td>\n",
       "      <td>0</td>\n",
       "      <td>0</td>\n",
       "      <td>0</td>\n",
       "      <td>...</td>\n",
       "      <td>1</td>\n",
       "      <td>0</td>\n",
       "      <td>0</td>\n",
       "      <td>0</td>\n",
       "      <td>1</td>\n",
       "      <td>0</td>\n",
       "      <td>0</td>\n",
       "      <td>0</td>\n",
       "      <td>1</td>\n",
       "      <td>9.495519</td>\n",
       "    </tr>\n",
       "    <tr>\n",
       "      <th>3</th>\n",
       "      <td>240.0</td>\n",
       "      <td>4.20</td>\n",
       "      <td>1</td>\n",
       "      <td>0</td>\n",
       "      <td>0</td>\n",
       "      <td>0</td>\n",
       "      <td>0</td>\n",
       "      <td>0</td>\n",
       "      <td>0</td>\n",
       "      <td>1</td>\n",
       "      <td>...</td>\n",
       "      <td>0</td>\n",
       "      <td>0</td>\n",
       "      <td>0</td>\n",
       "      <td>0</td>\n",
       "      <td>0</td>\n",
       "      <td>0</td>\n",
       "      <td>1</td>\n",
       "      <td>0</td>\n",
       "      <td>1</td>\n",
       "      <td>10.043249</td>\n",
       "    </tr>\n",
       "    <tr>\n",
       "      <th>4</th>\n",
       "      <td>120.0</td>\n",
       "      <td>2.00</td>\n",
       "      <td>0</td>\n",
       "      <td>0</td>\n",
       "      <td>0</td>\n",
       "      <td>0</td>\n",
       "      <td>0</td>\n",
       "      <td>1</td>\n",
       "      <td>0</td>\n",
       "      <td>1</td>\n",
       "      <td>...</td>\n",
       "      <td>0</td>\n",
       "      <td>0</td>\n",
       "      <td>0</td>\n",
       "      <td>0</td>\n",
       "      <td>0</td>\n",
       "      <td>0</td>\n",
       "      <td>1</td>\n",
       "      <td>0</td>\n",
       "      <td>1</td>\n",
       "      <td>9.814656</td>\n",
       "    </tr>\n",
       "    <tr>\n",
       "      <th>...</th>\n",
       "      <td>...</td>\n",
       "      <td>...</td>\n",
       "      <td>...</td>\n",
       "      <td>...</td>\n",
       "      <td>...</td>\n",
       "      <td>...</td>\n",
       "      <td>...</td>\n",
       "      <td>...</td>\n",
       "      <td>...</td>\n",
       "      <td>...</td>\n",
       "      <td>...</td>\n",
       "      <td>...</td>\n",
       "      <td>...</td>\n",
       "      <td>...</td>\n",
       "      <td>...</td>\n",
       "      <td>...</td>\n",
       "      <td>...</td>\n",
       "      <td>...</td>\n",
       "      <td>...</td>\n",
       "      <td>...</td>\n",
       "      <td>...</td>\n",
       "    </tr>\n",
       "    <tr>\n",
       "      <th>4340</th>\n",
       "      <td>9.0</td>\n",
       "      <td>3.00</td>\n",
       "      <td>0</td>\n",
       "      <td>0</td>\n",
       "      <td>1</td>\n",
       "      <td>0</td>\n",
       "      <td>0</td>\n",
       "      <td>0</td>\n",
       "      <td>0</td>\n",
       "      <td>0</td>\n",
       "      <td>...</td>\n",
       "      <td>1</td>\n",
       "      <td>0</td>\n",
       "      <td>0</td>\n",
       "      <td>1</td>\n",
       "      <td>0</td>\n",
       "      <td>0</td>\n",
       "      <td>0</td>\n",
       "      <td>0</td>\n",
       "      <td>1</td>\n",
       "      <td>11.736069</td>\n",
       "    </tr>\n",
       "    <tr>\n",
       "      <th>4341</th>\n",
       "      <td>1.0</td>\n",
       "      <td>3.50</td>\n",
       "      <td>0</td>\n",
       "      <td>1</td>\n",
       "      <td>0</td>\n",
       "      <td>0</td>\n",
       "      <td>0</td>\n",
       "      <td>0</td>\n",
       "      <td>0</td>\n",
       "      <td>0</td>\n",
       "      <td>...</td>\n",
       "      <td>1</td>\n",
       "      <td>0</td>\n",
       "      <td>0</td>\n",
       "      <td>0</td>\n",
       "      <td>0</td>\n",
       "      <td>0</td>\n",
       "      <td>1</td>\n",
       "      <td>0</td>\n",
       "      <td>1</td>\n",
       "      <td>8.779557</td>\n",
       "    </tr>\n",
       "    <tr>\n",
       "      <th>4342</th>\n",
       "      <td>194.0</td>\n",
       "      <td>2.00</td>\n",
       "      <td>0</td>\n",
       "      <td>1</td>\n",
       "      <td>0</td>\n",
       "      <td>0</td>\n",
       "      <td>0</td>\n",
       "      <td>0</td>\n",
       "      <td>0</td>\n",
       "      <td>0</td>\n",
       "      <td>...</td>\n",
       "      <td>1</td>\n",
       "      <td>0</td>\n",
       "      <td>0</td>\n",
       "      <td>0</td>\n",
       "      <td>0</td>\n",
       "      <td>0</td>\n",
       "      <td>1</td>\n",
       "      <td>0</td>\n",
       "      <td>1</td>\n",
       "      <td>8.987197</td>\n",
       "    </tr>\n",
       "    <tr>\n",
       "      <th>4343</th>\n",
       "      <td>31.0</td>\n",
       "      <td>2.20</td>\n",
       "      <td>0</td>\n",
       "      <td>0</td>\n",
       "      <td>0</td>\n",
       "      <td>0</td>\n",
       "      <td>0</td>\n",
       "      <td>1</td>\n",
       "      <td>0</td>\n",
       "      <td>0</td>\n",
       "      <td>...</td>\n",
       "      <td>1</td>\n",
       "      <td>0</td>\n",
       "      <td>0</td>\n",
       "      <td>0</td>\n",
       "      <td>0</td>\n",
       "      <td>0</td>\n",
       "      <td>1</td>\n",
       "      <td>0</td>\n",
       "      <td>1</td>\n",
       "      <td>9.560997</td>\n",
       "    </tr>\n",
       "    <tr>\n",
       "      <th>4344</th>\n",
       "      <td>124.0</td>\n",
       "      <td>2.00</td>\n",
       "      <td>0</td>\n",
       "      <td>0</td>\n",
       "      <td>0</td>\n",
       "      <td>0</td>\n",
       "      <td>0</td>\n",
       "      <td>0</td>\n",
       "      <td>1</td>\n",
       "      <td>0</td>\n",
       "      <td>...</td>\n",
       "      <td>0</td>\n",
       "      <td>0</td>\n",
       "      <td>1</td>\n",
       "      <td>1</td>\n",
       "      <td>0</td>\n",
       "      <td>0</td>\n",
       "      <td>0</td>\n",
       "      <td>0</td>\n",
       "      <td>1</td>\n",
       "      <td>9.510445</td>\n",
       "    </tr>\n",
       "  </tbody>\n",
       "</table>\n",
       "<p>4345 rows × 22 columns</p>\n",
       "</div>"
      ],
      "text/plain": [
       "      Mileage  EngineV  Brand_Audi  Brand_BMW  Brand_Mercedes-Benz  \\\n",
       "0       277.0     2.00           0          1                    0   \n",
       "1       427.0     2.90           0          0                    1   \n",
       "2       358.0     4.65           0          0                    1   \n",
       "3       240.0     4.20           1          0                    0   \n",
       "4       120.0     2.00           0          0                    0   \n",
       "...       ...      ...         ...        ...                  ...   \n",
       "4340      9.0     3.00           0          0                    1   \n",
       "4341      1.0     3.50           0          1                    0   \n",
       "4342    194.0     2.00           0          1                    0   \n",
       "4343     31.0     2.20           0          0                    0   \n",
       "4344    124.0     2.00           0          0                    0   \n",
       "\n",
       "      Brand_Mitsubishi  Brand_Renault  Brand_Toyota  Brand_Volkswagen  \\\n",
       "0                    0              0             0                 0   \n",
       "1                    0              0             0                 0   \n",
       "2                    0              0             0                 0   \n",
       "3                    0              0             0                 0   \n",
       "4                    0              0             1                 0   \n",
       "...                ...            ...           ...               ...   \n",
       "4340                 0              0             0                 0   \n",
       "4341                 0              0             0                 0   \n",
       "4342                 0              0             0                 0   \n",
       "4343                 0              0             1                 0   \n",
       "4344                 0              0             0                 1   \n",
       "\n",
       "      Body_crossover  ...  Body_sedan  Body_vagon  Body_van  \\\n",
       "0                  0  ...           1           0         0   \n",
       "1                  0  ...           0           0         1   \n",
       "2                  0  ...           1           0         0   \n",
       "3                  1  ...           0           0         0   \n",
       "4                  1  ...           0           0         0   \n",
       "...              ...  ...         ...         ...       ...   \n",
       "4340               0  ...           1           0         0   \n",
       "4341               0  ...           1           0         0   \n",
       "4342               0  ...           1           0         0   \n",
       "4343               0  ...           1           0         0   \n",
       "4344               0  ...           0           0         1   \n",
       "\n",
       "      Engine Type_Diesel  Engine Type_Gas  Engine Type_Other  \\\n",
       "0                      0                0                  0   \n",
       "1                      1                0                  0   \n",
       "2                      0                1                  0   \n",
       "3                      0                0                  0   \n",
       "4                      0                0                  0   \n",
       "...                  ...              ...                ...   \n",
       "4340                   1                0                  0   \n",
       "4341                   0                0                  0   \n",
       "4342                   0                0                  0   \n",
       "4343                   0                0                  0   \n",
       "4344                   1                0                  0   \n",
       "\n",
       "      Engine Type_Petrol  Registration_no  Registration_yes   LogPrice  \n",
       "0                      1                0                 1   8.342840  \n",
       "1                      0                0                 1   8.974618  \n",
       "2                      0                0                 1   9.495519  \n",
       "3                      1                0                 1  10.043249  \n",
       "4                      1                0                 1   9.814656  \n",
       "...                  ...              ...               ...        ...  \n",
       "4340                   0                0                 1  11.736069  \n",
       "4341                   1                0                 1   8.779557  \n",
       "4342                   1                0                 1   8.987197  \n",
       "4343                   1                0                 1   9.560997  \n",
       "4344                   0                0                 1   9.510445  \n",
       "\n",
       "[4345 rows x 22 columns]"
      ]
     },
     "execution_count": 34,
     "metadata": {},
     "output_type": "execute_result"
    }
   ],
   "source": [
    "qualified_data = linear_data.drop(['Year', 'Model'], axis = 1)\n",
    "qualified_data"
   ]
  },
  {
   "cell_type": "markdown",
   "metadata": {},
   "source": [
    "Now, we have data that is clean and complies with OLS assumptions. We did not check for Autocorrelation because it is often found in time series data and since we do not have time series data here, we won't worry about that. For now, we also assume that we have not left any important variable out, so we can say there is no endogeneity. Normality and Homoscadesticity is present in data, so fifth assumptions is also qualified."
   ]
  },
  {
   "cell_type": "markdown",
   "metadata": {},
   "source": [
    "### Feature Selection"
   ]
  },
  {
   "cell_type": "markdown",
   "metadata": {},
   "source": [
    "Having too many irrelevant features in your data can decrease the accuracy of the models. Three benefits of performing feature selection before modeling your data are:\n",
    "\n",
    " - Reduces Overfitting: Less redundant data means less opportunity to make decisions based on noise.\n",
    " - Improves Accuracy: Less misleading data means modeling accuracy improves.\n",
    " - Reduces Training Time: Less data means that algorithms train faster."
   ]
  },
  {
   "cell_type": "markdown",
   "metadata": {},
   "source": [
    "#### Recursive Feature elimination(RFE)"
   ]
  },
  {
   "cell_type": "markdown",
   "metadata": {},
   "source": [
    "Given an external estimator that assigns weights to features, recursive feature elimination (RFE) is to select features by recursively considering smaller and smaller sets of features. First, the estimator is trained on the initial set of features and the importance of each feature is obtained either through a coef_ attribute or through a feature_importances_ attribute. Then, the least important features are pruned from current set of features.That procedure is recursively repeated on the pruned set until the desired number of features to select is eventually reached."
   ]
  },
  {
   "cell_type": "code",
   "execution_count": 35,
   "metadata": {},
   "outputs": [
    {
     "name": "stdout",
     "output_type": "stream",
     "text": [
      "The selected features are : ['Mileage', 'EngineV', 'Brand_Audi', 'Brand_BMW', 'Brand_Mercedes-Benz', 'Brand_Mitsubishi', 'Brand_Renault', 'Brand_Toyota', 'Brand_Volkswagen', 'Body_crossover', 'Body_hatch', 'Body_other', 'Body_sedan', 'Body_vagon', 'Body_van', 'Engine Type_Diesel', 'Engine Type_Gas', 'Engine Type_Other', 'Engine Type_Petrol', 'Registration_no', 'Registration_yes']\n"
     ]
    }
   ],
   "source": [
    "#Importing the required libraries and packages\n",
    "from sklearn.linear_model import LinearRegression\n",
    "from sklearn.feature_selection import RFE\n",
    "\n",
    "#Declaring the predictor variables and target variable\n",
    "x = qualified_data.drop('LogPrice', axis = 1)\n",
    "y = qualified_data['LogPrice']\n",
    "\n",
    "#Building a Logistic Regression model\n",
    "model = LinearRegression()\n",
    "\n",
    "#Creating a RFE model and selecting the attributes\n",
    "rfe = RFE(model, 21) #10 indicates the number of attributes we have considered for building this model\n",
    "rfe = rfe.fit(x, y)\n",
    "\n",
    "#printing the selected features\n",
    "print('The selected features are : %s' %list(x.columns[rfe.support_]))"
   ]
  },
  {
   "cell_type": "markdown",
   "metadata": {},
   "source": [
    "We can see that all the features are selected and are important"
   ]
  },
  {
   "cell_type": "markdown",
   "metadata": {},
   "source": [
    "### Declaring Predictor and Target Variables"
   ]
  },
  {
   "cell_type": "markdown",
   "metadata": {},
   "source": [
    "The predictor variables(x) are nothing but the features which we will be using to predict the output and the target variable(y) means which we owe to predict."
   ]
  },
  {
   "cell_type": "code",
   "execution_count": 36,
   "metadata": {},
   "outputs": [],
   "source": [
    "y = qualified_data['LogPrice']\n",
    "x = qualified_data.drop(['LogPrice'], axis = 1)"
   ]
  },
  {
   "cell_type": "markdown",
   "metadata": {},
   "source": [
    "### Train and Test Split of the Data"
   ]
  },
  {
   "cell_type": "markdown",
   "metadata": {},
   "source": [
    "To make sure that our model is not a underfitted or overfitted, we will test it with known targets. For this, we need to split the data into two groups one for train the model and one for testing it."
   ]
  },
  {
   "cell_type": "code",
   "execution_count": 37,
   "metadata": {},
   "outputs": [],
   "source": [
    "#Importing the required package for splitting the data\n",
    "from sklearn.model_selection import train_test_split\n",
    "\n",
    "#Defining the train and test data\n",
    "x_train, x_test, y_train, y_test = train_test_split(x, y, test_size = 0.3, random_state = 42)"
   ]
  },
  {
   "cell_type": "markdown",
   "metadata": {},
   "source": [
    "### Training the Model"
   ]
  },
  {
   "cell_type": "markdown",
   "metadata": {},
   "source": [
    "Now, we are ready to train the model with the help of the training data"
   ]
  },
  {
   "cell_type": "code",
   "execution_count": 38,
   "metadata": {},
   "outputs": [
    {
     "data": {
      "text/plain": [
       "0.6387199893789235"
      ]
     },
     "execution_count": 38,
     "metadata": {},
     "output_type": "execute_result"
    }
   ],
   "source": [
    "#Importing the required package\n",
    "from sklearn.linear_model import LinearRegression\n",
    "\n",
    "#Making an object of the Linear Regression\n",
    "model = LinearRegression()\n",
    "\n",
    "#Fitting the Model\n",
    "model_fit = model.fit(x_train, y_train)\n",
    "\n",
    "#Predicting the prices to compare\n",
    "y_predict = model_fit.predict(x_test)\n",
    "\n",
    "model_fit.score(x_test, y_test)"
   ]
  },
  {
   "cell_type": "markdown",
   "metadata": {},
   "source": [
    "We have trained the model and have made predictions for the same inputs as used for training to compare how close is our predicted prices to the actual prices.\n",
    "\n",
    "From the above table, it is clearly stated that the **R2 score is ~64% means the model has an accuracy of the model has an accuracy of 64%.**"
   ]
  },
  {
   "cell_type": "code",
   "execution_count": 39,
   "metadata": {},
   "outputs": [
    {
     "data": {
      "text/plain": [
       "array([-0.00441643,  0.25167874,  0.18668619,  0.23693345,  0.20676129,\n",
       "       -0.30485186, -0.34015866,  0.02323542, -0.00860583,  0.33898292,\n",
       "       -0.25364331,  0.09430858, -0.06390257, -0.06464304, -0.05110259,\n",
       "        0.15032703, -0.13350244,  0.05956269, -0.07638728, -0.5162098 ,\n",
       "        0.5162098 ])"
      ]
     },
     "execution_count": 39,
     "metadata": {},
     "output_type": "execute_result"
    }
   ],
   "source": [
    "#Getting the coefficients of the linear regression model\n",
    "model_fit.coef_"
   ]
  },
  {
   "cell_type": "code",
   "execution_count": 40,
   "metadata": {},
   "outputs": [
    {
     "data": {
      "text/plain": [
       "37.384547592469836"
      ]
     },
     "execution_count": 40,
     "metadata": {},
     "output_type": "execute_result"
    }
   ],
   "source": [
    "#Importing the required package for calculating the R-Square value\n",
    "import sklearn\n",
    "from sklearn import metrics\n",
    "\n",
    "#Calculating the mean absolute error percentage\n",
    "(sklearn.metrics.mean_absolute_error(y_test, y_predict))*100"
   ]
  },
  {
   "cell_type": "markdown",
   "metadata": {},
   "source": [
    "We can see that the Mean absolute error is 37%"
   ]
  },
  {
   "cell_type": "code",
   "execution_count": 41,
   "metadata": {},
   "outputs": [
    {
     "data": {
      "text/plain": [
       "0.6387199893789235"
      ]
     },
     "execution_count": 41,
     "metadata": {},
     "output_type": "execute_result"
    }
   ],
   "source": [
    "#Calculating the adjusted r2 score\n",
    "sklearn.metrics.r2_score(y_test, y_predict)"
   ]
  },
  {
   "cell_type": "markdown",
   "metadata": {},
   "source": [
    "We can see that the value of adjuted r2 is nearly 63.8%"
   ]
  },
  {
   "cell_type": "code",
   "execution_count": 42,
   "metadata": {},
   "outputs": [
    {
     "data": {
      "text/plain": [
       "0.2936810153954372"
      ]
     },
     "execution_count": 42,
     "metadata": {},
     "output_type": "execute_result"
    }
   ],
   "source": [
    "#Calculating the mean square error\n",
    "sklearn.metrics.mean_squared_error(y_test, y_predict)"
   ]
  },
  {
   "cell_type": "markdown",
   "metadata": {},
   "source": [
    "Let's plot a scatter plot of Actual and Predicted Prices to compare. More observations close to a 45 degree line, better the model."
   ]
  },
  {
   "cell_type": "code",
   "execution_count": 43,
   "metadata": {},
   "outputs": [
    {
     "data": {
      "text/plain": [
       "[Text(0, 0.5, 'Predicted Prices'), Text(0.5, 0, 'Actual Prices')]"
      ]
     },
     "execution_count": 43,
     "metadata": {},
     "output_type": "execute_result"
    },
    {
     "data": {
      "image/png": "[encoded data removed]",
      "text/plain": [
       "<Figure size 432x288 with 1 Axes>"
      ]
     },
     "metadata": {
      "needs_background": "light"
     },
     "output_type": "display_data"
    }
   ],
   "source": [
    "fig = sns.scatterplot(y_test, y_predict)\n",
    "fig.set(xlabel = 'Actual Prices', ylabel = 'Predicted Prices')"
   ]
  },
  {
   "cell_type": "markdown",
   "metadata": {},
   "source": [
    "Seems like a good model, doesn't it?\n",
    "\n",
    "Another way to check how good the model is to plot a **Probability Distribution Function of Residuals. (Residual = Observation - Prediction)**"
   ]
  },
  {
   "cell_type": "code",
   "execution_count": 44,
   "metadata": {},
   "outputs": [
    {
     "data": {
      "text/plain": [
       "Text(0.5, 1.0, 'Residual Plot')"
      ]
     },
     "execution_count": 44,
     "metadata": {},
     "output_type": "execute_result"
    },
    {
     "data": {
      "image/png": "[encoded data removed]",
      "text/plain": [
       "<Figure size 432x288 with 1 Axes>"
      ]
     },
     "metadata": {
      "needs_background": "light"
     },
     "output_type": "display_data"
    }
   ],
   "source": [
    "residuals = y_test - y_predict\n",
    "sns.distplot(residuals).set_title('Residual Plot')"
   ]
  },
  {
   "cell_type": "markdown",
   "metadata": {},
   "source": [
    "For the best case scenario, the residuals should be normally distributed. This graph is mostly okay. But, at the same time it has more residuals on the negative side of the graph. It suggests that our model has overestimated price more often than the time it has underestimated."
   ]
  },
  {
   "cell_type": "markdown",
   "metadata": {},
   "source": [
    "#### Building a Model for Checking Feature Importance"
   ]
  },
  {
   "cell_type": "code",
   "execution_count": 45,
   "metadata": {},
   "outputs": [
    {
     "data": {
      "text/plain": [
       "array([[-4.80342918e-01,  2.41689297e-01, -2.12005887e+11,\n",
       "        -2.51064360e+11, -2.81674505e+11, -1.80518512e+11,\n",
       "        -2.11500183e+11, -2.26557590e+11, -2.83454972e+11,\n",
       "        -2.09716358e+12, -1.29737018e+12, -1.53807305e+12,\n",
       "        -2.51753570e+12, -1.48633602e+12, -1.86841731e+12,\n",
       "         4.25316805e+12,  2.99406612e+12,  1.61146824e+12,\n",
       "         4.07016109e+12, -1.34080628e+12, -1.34080628e+12]])"
      ]
     },
     "execution_count": 45,
     "metadata": {},
     "output_type": "execute_result"
    }
   ],
   "source": [
    "#Importing the required packages\n",
    "from sklearn.preprocessing import StandardScaler\n",
    "\n",
    "#Considering all the feautures\n",
    "y = qualified_data['LogPrice']\n",
    "X = qualified_data.drop(['LogPrice'], axis = 1)\n",
    "\n",
    "#Train-Test Split\n",
    "X_train,X_test,y_train,y_test = train_test_split(X,y,test_size=0.2,random_state=1)\n",
    "\n",
    "#StandardScaler Function to scale the X's features\n",
    "sc_X = StandardScaler()\n",
    "\n",
    "#Scaling on X\n",
    "X_train = sc_X.fit_transform(X_train)\n",
    "X_test = sc_X.transform(X_test)\n",
    "sc_y = StandardScaler()\n",
    "\n",
    "#StandardScaler Function to scale the Y\n",
    "y_train = sc_y.fit_transform(np.asarray(y_train).reshape(-1,1))\n",
    "y_test = sc_y.fit_transform(np.asarray(y_test).reshape(-1,1))\n",
    "\n",
    "#Fitting model on scaled data\n",
    "reg = LinearRegression().fit(X_train,y_train)\n",
    "\n",
    "#Getting the Coefficients to Get the feature Importance\n",
    "reg.coef_"
   ]
  },
  {
   "cell_type": "code",
   "execution_count": 46,
   "metadata": {},
   "outputs": [],
   "source": [
    "#Assigning the values to a dictionary, converting to a datafram and Sorting by coefficient values\n",
    "d = {'Col':qualified_data.drop('LogPrice',axis=1).columns,'Coef':np.abs(reg.coef_[0])}\n",
    "\n",
    "#Converting into a dataframe\n",
    "d = pd.DataFrame(d)\n",
    "#Sorting by coefficient values\n",
    "d = d.sort_values(by='Coef',ascending=False)"
   ]
  },
  {
   "cell_type": "code",
   "execution_count": 47,
   "metadata": {},
   "outputs": [
    {
     "data": {
      "image/png": "[encoded data removed]",
      "text/plain": [
       "<Figure size 1080x288 with 1 Axes>"
      ]
     },
     "metadata": {
      "needs_background": "light"
     },
     "output_type": "display_data"
    }
   ],
   "source": [
    "#Plotting the Results\n",
    "figure = plt.figure(figsize=(15,4))\n",
    "plt.bar(d['Col'],d['Coef'])\n",
    "plt.xticks(rotation='vertical')\n",
    "plt.show()"
   ]
  },
  {
   "cell_type": "markdown",
   "metadata": {},
   "source": [
    "##### Now let us consider  the important features by looking from the above plot"
   ]
  },
  {
   "cell_type": "code",
   "execution_count": 52,
   "metadata": {},
   "outputs": [
    {
     "data": {
      "text/html": [
       "<table class=\"simpletable\">\n",
       "<caption>OLS Regression Results</caption>\n",
       "<tr>\n",
       "  <th>Dep. Variable:</th>        <td>LogPrice</td>     <th>  R-squared:         </th> <td>   0.453</td>\n",
       "</tr>\n",
       "<tr>\n",
       "  <th>Model:</th>                   <td>OLS</td>       <th>  Adj. R-squared:    </th> <td>   0.451</td>\n",
       "</tr>\n",
       "<tr>\n",
       "  <th>Method:</th>             <td>Least Squares</td>  <th>  F-statistic:       </th> <td>   238.6</td>\n",
       "</tr>\n",
       "<tr>\n",
       "  <th>Date:</th>             <td>Sun, 11 Jul 2021</td> <th>  Prob (F-statistic):</th>  <td>  0.00</td> \n",
       "</tr>\n",
       "<tr>\n",
       "  <th>Time:</th>                 <td>12:17:25</td>     <th>  Log-Likelihood:    </th> <td> -4463.3</td>\n",
       "</tr>\n",
       "<tr>\n",
       "  <th>No. Observations:</th>      <td>  4345</td>      <th>  AIC:               </th> <td>   8959.</td>\n",
       "</tr>\n",
       "<tr>\n",
       "  <th>Df Residuals:</th>          <td>  4329</td>      <th>  BIC:               </th> <td>   9061.</td>\n",
       "</tr>\n",
       "<tr>\n",
       "  <th>Df Model:</th>              <td>    15</td>      <th>                     </th>     <td> </td>   \n",
       "</tr>\n",
       "<tr>\n",
       "  <th>Covariance Type:</th>      <td>nonrobust</td>    <th>                     </th>     <td> </td>   \n",
       "</tr>\n",
       "</table>\n",
       "<table class=\"simpletable\">\n",
       "<tr>\n",
       "           <td></td>              <th>coef</th>     <th>std err</th>      <th>t</th>      <th>P>|t|</th>  <th>[0.025</th>    <th>0.975]</th>  \n",
       "</tr>\n",
       "<tr>\n",
       "  <th>const</th>               <td>-1.667e+12</td> <td> 1.08e+12</td> <td>   -1.544</td> <td> 0.123</td> <td>-3.78e+12</td> <td>  4.5e+11</td>\n",
       "</tr>\n",
       "<tr>\n",
       "  <th>Brand_Audi</th>          <td> 9.737e+11</td> <td> 1.78e+12</td> <td>    0.548</td> <td> 0.584</td> <td>-2.51e+12</td> <td> 4.46e+12</td>\n",
       "</tr>\n",
       "<tr>\n",
       "  <th>Brand_BMW</th>           <td> 9.737e+11</td> <td> 1.78e+12</td> <td>    0.548</td> <td> 0.584</td> <td>-2.51e+12</td> <td> 4.46e+12</td>\n",
       "</tr>\n",
       "<tr>\n",
       "  <th>Brand_Mercedes-Benz</th> <td> 9.737e+11</td> <td> 1.78e+12</td> <td>    0.548</td> <td> 0.584</td> <td>-2.51e+12</td> <td> 4.46e+12</td>\n",
       "</tr>\n",
       "<tr>\n",
       "  <th>Brand_Mitsubishi</th>    <td> 9.737e+11</td> <td> 1.78e+12</td> <td>    0.548</td> <td> 0.584</td> <td>-2.51e+12</td> <td> 4.46e+12</td>\n",
       "</tr>\n",
       "<tr>\n",
       "  <th>Brand_Renault</th>       <td> 9.737e+11</td> <td> 1.78e+12</td> <td>    0.548</td> <td> 0.584</td> <td>-2.51e+12</td> <td> 4.46e+12</td>\n",
       "</tr>\n",
       "<tr>\n",
       "  <th>Brand_Toyota</th>        <td> 9.737e+11</td> <td> 1.78e+12</td> <td>    0.548</td> <td> 0.584</td> <td>-2.51e+12</td> <td> 4.46e+12</td>\n",
       "</tr>\n",
       "<tr>\n",
       "  <th>Brand_Volkswagen</th>    <td> 9.737e+11</td> <td> 1.78e+12</td> <td>    0.548</td> <td> 0.584</td> <td>-2.51e+12</td> <td> 4.46e+12</td>\n",
       "</tr>\n",
       "<tr>\n",
       "  <th>Body_crossover</th>      <td>-6.712e+11</td> <td> 5.64e+11</td> <td>   -1.190</td> <td> 0.234</td> <td>-1.78e+12</td> <td> 4.35e+11</td>\n",
       "</tr>\n",
       "<tr>\n",
       "  <th>Body_hatch</th>          <td>-6.712e+11</td> <td> 5.64e+11</td> <td>   -1.190</td> <td> 0.234</td> <td>-1.78e+12</td> <td> 4.35e+11</td>\n",
       "</tr>\n",
       "<tr>\n",
       "  <th>Body_other</th>          <td>-6.712e+11</td> <td> 5.64e+11</td> <td>   -1.190</td> <td> 0.234</td> <td>-1.78e+12</td> <td> 4.35e+11</td>\n",
       "</tr>\n",
       "<tr>\n",
       "  <th>Body_sedan</th>          <td>-6.712e+11</td> <td> 5.64e+11</td> <td>   -1.190</td> <td> 0.234</td> <td>-1.78e+12</td> <td> 4.35e+11</td>\n",
       "</tr>\n",
       "<tr>\n",
       "  <th>Body_vagon</th>          <td>-6.712e+11</td> <td> 5.64e+11</td> <td>   -1.190</td> <td> 0.234</td> <td>-1.78e+12</td> <td> 4.35e+11</td>\n",
       "</tr>\n",
       "<tr>\n",
       "  <th>Body_van</th>            <td>-6.712e+11</td> <td> 5.64e+11</td> <td>   -1.190</td> <td> 0.234</td> <td>-1.78e+12</td> <td> 4.35e+11</td>\n",
       "</tr>\n",
       "<tr>\n",
       "  <th>Engine Type_Diesel</th>  <td>-1.177e+12</td> <td> 6.84e+11</td> <td>   -1.722</td> <td> 0.085</td> <td>-2.52e+12</td> <td> 1.63e+11</td>\n",
       "</tr>\n",
       "<tr>\n",
       "  <th>Engine Type_Gas</th>     <td>-1.177e+12</td> <td> 6.84e+11</td> <td>   -1.722</td> <td> 0.085</td> <td>-2.52e+12</td> <td> 1.63e+11</td>\n",
       "</tr>\n",
       "<tr>\n",
       "  <th>Engine Type_Other</th>   <td>-1.177e+12</td> <td> 6.84e+11</td> <td>   -1.722</td> <td> 0.085</td> <td>-2.52e+12</td> <td> 1.63e+11</td>\n",
       "</tr>\n",
       "<tr>\n",
       "  <th>Engine Type_Petrol</th>  <td>-1.177e+12</td> <td> 6.84e+11</td> <td>   -1.722</td> <td> 0.085</td> <td>-2.52e+12</td> <td> 1.63e+11</td>\n",
       "</tr>\n",
       "<tr>\n",
       "  <th>Registration_no</th>     <td> 2.542e+12</td> <td> 1.68e+12</td> <td>    1.511</td> <td> 0.131</td> <td>-7.55e+11</td> <td> 5.84e+12</td>\n",
       "</tr>\n",
       "<tr>\n",
       "  <th>Registration_yes</th>    <td> 2.542e+12</td> <td> 1.68e+12</td> <td>    1.511</td> <td> 0.131</td> <td>-7.55e+11</td> <td> 5.84e+12</td>\n",
       "</tr>\n",
       "</table>\n",
       "<table class=\"simpletable\">\n",
       "<tr>\n",
       "  <th>Omnibus:</th>       <td>134.667</td> <th>  Durbin-Watson:     </th> <td>   2.018</td>\n",
       "</tr>\n",
       "<tr>\n",
       "  <th>Prob(Omnibus):</th> <td> 0.000</td>  <th>  Jarque-Bera (JB):  </th> <td> 302.520</td>\n",
       "</tr>\n",
       "<tr>\n",
       "  <th>Skew:</th>          <td> 0.163</td>  <th>  Prob(JB):          </th> <td>2.04e-66</td>\n",
       "</tr>\n",
       "<tr>\n",
       "  <th>Kurtosis:</th>      <td> 4.251</td>  <th>  Cond. No.          </th> <td>2.52e+15</td>\n",
       "</tr>\n",
       "</table><br/><br/>Warnings:<br/>[1] Standard Errors assume that the covariance matrix of the errors is correctly specified.<br/>[2] The smallest eigenvalue is 1.8e-27. This might indicate that there are<br/>strong multicollinearity problems or that the design matrix is singular."
      ],
      "text/plain": [
       "<class 'statsmodels.iolib.summary.Summary'>\n",
       "\"\"\"\n",
       "                            OLS Regression Results                            \n",
       "==============================================================================\n",
       "Dep. Variable:               LogPrice   R-squared:                       0.453\n",
       "Model:                            OLS   Adj. R-squared:                  0.451\n",
       "Method:                 Least Squares   F-statistic:                     238.6\n",
       "Date:                Sun, 11 Jul 2021   Prob (F-statistic):               0.00\n",
       "Time:                        12:17:25   Log-Likelihood:                -4463.3\n",
       "No. Observations:                4345   AIC:                             8959.\n",
       "Df Residuals:                    4329   BIC:                             9061.\n",
       "Df Model:                          15                                         \n",
       "Covariance Type:            nonrobust                                         \n",
       "=======================================================================================\n",
       "                          coef    std err          t      P>|t|      [0.025      0.975]\n",
       "---------------------------------------------------------------------------------------\n",
       "const               -1.667e+12   1.08e+12     -1.544      0.123   -3.78e+12     4.5e+11\n",
       "Brand_Audi           9.737e+11   1.78e+12      0.548      0.584   -2.51e+12    4.46e+12\n",
       "Brand_BMW            9.737e+11   1.78e+12      0.548      0.584   -2.51e+12    4.46e+12\n",
       "Brand_Mercedes-Benz  9.737e+11   1.78e+12      0.548      0.584   -2.51e+12    4.46e+12\n",
       "Brand_Mitsubishi     9.737e+11   1.78e+12      0.548      0.584   -2.51e+12    4.46e+12\n",
       "Brand_Renault        9.737e+11   1.78e+12      0.548      0.584   -2.51e+12    4.46e+12\n",
       "Brand_Toyota         9.737e+11   1.78e+12      0.548      0.584   -2.51e+12    4.46e+12\n",
       "Brand_Volkswagen     9.737e+11   1.78e+12      0.548      0.584   -2.51e+12    4.46e+12\n",
       "Body_crossover      -6.712e+11   5.64e+11     -1.190      0.234   -1.78e+12    4.35e+11\n",
       "Body_hatch          -6.712e+11   5.64e+11     -1.190      0.234   -1.78e+12    4.35e+11\n",
       "Body_other          -6.712e+11   5.64e+11     -1.190      0.234   -1.78e+12    4.35e+11\n",
       "Body_sedan          -6.712e+11   5.64e+11     -1.190      0.234   -1.78e+12    4.35e+11\n",
       "Body_vagon          -6.712e+11   5.64e+11     -1.190      0.234   -1.78e+12    4.35e+11\n",
       "Body_van            -6.712e+11   5.64e+11     -1.190      0.234   -1.78e+12    4.35e+11\n",
       "Engine Type_Diesel  -1.177e+12   6.84e+11     -1.722      0.085   -2.52e+12    1.63e+11\n",
       "Engine Type_Gas     -1.177e+12   6.84e+11     -1.722      0.085   -2.52e+12    1.63e+11\n",
       "Engine Type_Other   -1.177e+12   6.84e+11     -1.722      0.085   -2.52e+12    1.63e+11\n",
       "Engine Type_Petrol  -1.177e+12   6.84e+11     -1.722      0.085   -2.52e+12    1.63e+11\n",
       "Registration_no      2.542e+12   1.68e+12      1.511      0.131   -7.55e+11    5.84e+12\n",
       "Registration_yes     2.542e+12   1.68e+12      1.511      0.131   -7.55e+11    5.84e+12\n",
       "==============================================================================\n",
       "Omnibus:                      134.667   Durbin-Watson:                   2.018\n",
       "Prob(Omnibus):                  0.000   Jarque-Bera (JB):              302.520\n",
       "Skew:                           0.163   Prob(JB):                     2.04e-66\n",
       "Kurtosis:                       4.251   Cond. No.                     2.52e+15\n",
       "==============================================================================\n",
       "\n",
       "Warnings:\n",
       "[1] Standard Errors assume that the covariance matrix of the errors is correctly specified.\n",
       "[2] The smallest eigenvalue is 1.8e-27. This might indicate that there are\n",
       "strong multicollinearity problems or that the design matrix is singular.\n",
       "\"\"\""
      ]
     },
     "execution_count": 52,
     "metadata": {},
     "output_type": "execute_result"
    }
   ],
   "source": [
    "#Importing the required package\n",
    "import statsmodels.api as sm\n",
    "#Considering only the Important Variables\n",
    "X=qualified_data[['Brand_Audi', 'Brand_BMW', 'Brand_Mercedes-Benz', 'Brand_Mitsubishi', 'Brand_Renault', 'Brand_Toyota', \n",
    "        'Brand_Volkswagen', 'Body_crossover', 'Body_hatch', 'Body_other', 'Body_sedan', 'Body_vagon', 'Body_van', \n",
    "        'Engine Type_Diesel', 'Engine Type_Gas', 'Engine Type_Other', 'Engine Type_Petrol', \n",
    "        'Registration_no', 'Registration_yes']]\n",
    "y=qualified_data['LogPrice']\n",
    "\n",
    "#Using OLS\n",
    "X = sm.add_constant(X)\n",
    "X_train,X_test,y_train,y_test = train_test_split(X,y,test_size=0.2,random_state=1)\n",
    "regS = sm.OLS(y,X)\n",
    "rs = regS.fit()\n",
    "\n",
    "#Model summary\n",
    "rs.summary()"
   ]
  },
  {
   "cell_type": "markdown",
   "metadata": {},
   "source": [
    "We can see that the values of R2 and adjusted R2 have been drastically reduced when we removed the features Mileage and EngineV"
   ]
  },
  {
   "cell_type": "code",
   "execution_count": 53,
   "metadata": {},
   "outputs": [],
   "source": [
    "#Prediction on Test data\n",
    "y_pred = rs.predict(X_test)"
   ]
  },
  {
   "cell_type": "code",
   "execution_count": 54,
   "metadata": {},
   "outputs": [
    {
     "data": {
      "text/plain": [
       "49.06354607033903"
      ]
     },
     "execution_count": 54,
     "metadata": {},
     "output_type": "execute_result"
    }
   ],
   "source": [
    "#Calculating the mean absolute error percentage\n",
    "(sklearn.metrics.mean_absolute_error(y_test, y_pred))*100"
   ]
  },
  {
   "cell_type": "code",
   "execution_count": 55,
   "metadata": {},
   "outputs": [
    {
     "data": {
      "text/plain": [
       "0.4462420118348419"
      ]
     },
     "execution_count": 55,
     "metadata": {},
     "output_type": "execute_result"
    }
   ],
   "source": [
    "#Calculating the mean square error\n",
    "sklearn.metrics.mean_squared_error(y_test, y_pred)"
   ]
  },
  {
   "cell_type": "markdown",
   "metadata": {},
   "source": [
    "We can see that there is an increase in the error percentages.. So, we need to consider all the features in the dataset excluding the variable Model."
   ]
  },
  {
   "cell_type": "code",
   "execution_count": 56,
   "metadata": {},
   "outputs": [
    {
     "data": {
      "text/plain": [
       "[Text(0, 0.5, 'Predicted Prices'), Text(0.5, 0, 'Actual Prices')]"
      ]
     },
     "execution_count": 56,
     "metadata": {},
     "output_type": "execute_result"
    },
    {
     "data": {
      "image/png": "[encoded data removed]",
      "text/plain": [
       "<Figure size 432x288 with 1 Axes>"
      ]
     },
     "metadata": {
      "needs_background": "light"
     },
     "output_type": "display_data"
    }
   ],
   "source": [
    "fig = sns.scatterplot(y_test, y_pred)\n",
    "fig.set(xlabel = 'Actual Prices', ylabel = 'Predicted Prices')"
   ]
  },
  {
   "cell_type": "markdown",
   "metadata": {},
   "source": [
    "Seems like a good model, doesn't it?\n",
    "\n",
    "Another way to check how good the model is to plot a **Probability Distribution Function of Residuals. (Residual = Observation - Prediction)**"
   ]
  },
  {
   "cell_type": "code",
   "execution_count": 57,
   "metadata": {},
   "outputs": [
    {
     "data": {
      "text/plain": [
       "Text(0.5, 1.0, 'Residual Plot')"
      ]
     },
     "execution_count": 57,
     "metadata": {},
     "output_type": "execute_result"
    },
    {
     "data": {
      "image/png": "[encoded data removed]",
      "text/plain": [
       "<Figure size 432x288 with 1 Axes>"
      ]
     },
     "metadata": {
      "needs_background": "light"
     },
     "output_type": "display_data"
    }
   ],
   "source": [
    "residuals = y_test - y_pred\n",
    "sns.distplot(residuals).set_title('Residual Plot')"
   ]
  },
  {
   "cell_type": "markdown",
   "metadata": {},
   "source": [
    "For the best case scenario, the residuals should be normally distributed. This graph is mostly okay. But, at the same time it has somewhat more residuals on the negative side of the graph. It suggests that our model has overestimated price more often than the time it has underestimated."
   ]
  },
  {
   "cell_type": "markdown",
   "metadata": {},
   "source": [
    "Hence, by seeing all the above considerations, we come to know that we should consider all the features for the model except the variable 'Model'"
   ]
  }
 ],
 "metadata": {
  "kernelspec": {
   "display_name": "Python 3",
   "language": "python",
   "name": "python3"
  },
  "language_info": {
   "codemirror_mode": {
    "name": "ipython",
    "version": 3
   },
   "file_extension": ".py",
   "mimetype": "text/x-python",
   "name": "python",
   "nbconvert_exporter": "python",
   "pygments_lexer": "ipython3",
   "version": "3.7.6"
  }
 },
 "nbformat": 4,
 "nbformat_minor": 4
}
